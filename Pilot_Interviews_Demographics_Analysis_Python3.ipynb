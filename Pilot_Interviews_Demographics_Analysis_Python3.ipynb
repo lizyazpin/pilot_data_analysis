{
 "cells": [
  {
   "cell_type": "markdown",
   "metadata": {},
   "source": [
    "# Set up\n",
    "\n",
    "Libraries included and database load."
   ]
  },
  {
   "cell_type": "code",
   "execution_count": 1,
   "metadata": {},
   "outputs": [],
   "source": [
    "#Import required libraries\n",
    "import numpy as np\n",
    "import pandas as pd"
   ]
  },
  {
   "cell_type": "code",
   "execution_count": 2,
   "metadata": {},
   "outputs": [],
   "source": [
    "#load data\n",
    "# Read data from CSV file\n",
    "\n",
    "csv_path = 'RateYourAcademicSupervisor.csv'\n",
    "df = pd.read_csv(csv_path)"
   ]
  },
  {
   "cell_type": "markdown",
   "metadata": {},
   "source": [
    "# Demographic data\n",
    "\n",
    "This is only shows information related to demographics from interviewees."
   ]
  },
  {
   "cell_type": "code",
   "execution_count": 3,
   "metadata": {},
   "outputs": [
    {
     "data": {
      "text/html": [
       "<div>\n",
       "<style scoped>\n",
       "    .dataframe tbody tr th:only-of-type {\n",
       "        vertical-align: middle;\n",
       "    }\n",
       "\n",
       "    .dataframe tbody tr th {\n",
       "        vertical-align: top;\n",
       "    }\n",
       "\n",
       "    .dataframe thead th {\n",
       "        text-align: right;\n",
       "    }\n",
       "</style>\n",
       "<table border=\"1\" class=\"dataframe\">\n",
       "  <thead>\n",
       "    <tr style=\"text-align: right;\">\n",
       "      <th></th>\n",
       "      <th>Age group:</th>\n",
       "      <th>Gender:</th>\n",
       "      <th>Which year of Ph.D. are you in?</th>\n",
       "      <th>Are you doing/did you do your Ph.D. in your native language?</th>\n",
       "      <th>Are you doing/did you do your Ph.D. in your native country?</th>\n",
       "      <th>How many supervisors/advisors do/did you have?</th>\n",
       "    </tr>\n",
       "  </thead>\n",
       "  <tbody>\n",
       "    <tr>\n",
       "      <th>0</th>\n",
       "      <td>36-40</td>\n",
       "      <td>Female</td>\n",
       "      <td>Graduated</td>\n",
       "      <td>No</td>\n",
       "      <td>No</td>\n",
       "      <td>3</td>\n",
       "    </tr>\n",
       "    <tr>\n",
       "      <th>1</th>\n",
       "      <td>26-30</td>\n",
       "      <td>Female</td>\n",
       "      <td>2nd</td>\n",
       "      <td>Yes</td>\n",
       "      <td>Yes</td>\n",
       "      <td>1</td>\n",
       "    </tr>\n",
       "    <tr>\n",
       "      <th>2</th>\n",
       "      <td>36-40</td>\n",
       "      <td>Female</td>\n",
       "      <td>Graduated</td>\n",
       "      <td>No</td>\n",
       "      <td>No</td>\n",
       "      <td>3</td>\n",
       "    </tr>\n",
       "    <tr>\n",
       "      <th>3</th>\n",
       "      <td>26-30</td>\n",
       "      <td>Male</td>\n",
       "      <td>Graduated</td>\n",
       "      <td>No</td>\n",
       "      <td>No</td>\n",
       "      <td>2</td>\n",
       "    </tr>\n",
       "    <tr>\n",
       "      <th>4</th>\n",
       "      <td>41+</td>\n",
       "      <td>Female</td>\n",
       "      <td>5th+</td>\n",
       "      <td>Yes</td>\n",
       "      <td>Yes</td>\n",
       "      <td>More</td>\n",
       "    </tr>\n",
       "    <tr>\n",
       "      <th>5</th>\n",
       "      <td>41+</td>\n",
       "      <td>Male</td>\n",
       "      <td>Graduated</td>\n",
       "      <td>No</td>\n",
       "      <td>No</td>\n",
       "      <td>2</td>\n",
       "    </tr>\n",
       "    <tr>\n",
       "      <th>6</th>\n",
       "      <td>31-35</td>\n",
       "      <td>Female</td>\n",
       "      <td>3rd</td>\n",
       "      <td>No</td>\n",
       "      <td>No</td>\n",
       "      <td>1</td>\n",
       "    </tr>\n",
       "  </tbody>\n",
       "</table>\n",
       "</div>"
      ],
      "text/plain": [
       "  Age group: Gender: Which year of Ph.D. are you in?  \\\n",
       "0      36-40  Female                       Graduated   \n",
       "1      26-30  Female                             2nd   \n",
       "2      36-40  Female                       Graduated   \n",
       "3      26-30    Male                       Graduated   \n",
       "4        41+  Female                            5th+   \n",
       "5        41+    Male                       Graduated   \n",
       "6      31-35  Female                             3rd   \n",
       "\n",
       "  Are you doing/did you do your Ph.D. in your native language?   \\\n",
       "0                                                 No              \n",
       "1                                                Yes              \n",
       "2                                                 No              \n",
       "3                                                 No              \n",
       "4                                                Yes              \n",
       "5                                                 No              \n",
       "6                                                 No              \n",
       "\n",
       "  Are you doing/did you do your Ph.D. in your native country?   \\\n",
       "0                                                 No             \n",
       "1                                                Yes             \n",
       "2                                                 No             \n",
       "3                                                 No             \n",
       "4                                                Yes             \n",
       "5                                                 No             \n",
       "6                                                 No             \n",
       "\n",
       "  How many supervisors/advisors do/did you have?   \n",
       "0                                               3  \n",
       "1                                               1  \n",
       "2                                               3  \n",
       "3                                               2  \n",
       "4                                            More  \n",
       "5                                               2  \n",
       "6                                               1  "
      ]
     },
     "execution_count": 3,
     "metadata": {},
     "output_type": "execute_result"
    }
   ],
   "source": [
    "demographic_data=df[['Age group:', 'Gender:', 'Which year of Ph.D. are you in?',\n",
    "       'Are you doing/did you do your Ph.D. in your native language? ',\n",
    "       'Are you doing/did you do your Ph.D. in your native country? ',\n",
    "       'How many supervisors/advisors do/did you have? ']]\n",
    "demographic_data"
   ]
  },
  {
   "cell_type": "markdown",
   "metadata": {},
   "source": [
    "## Age"
   ]
  },
  {
   "cell_type": "code",
   "execution_count": 4,
   "metadata": {},
   "outputs": [
    {
     "data": {
      "text/plain": [
       "<AxesSubplot:ylabel='Age group:'>"
      ]
     },
     "execution_count": 4,
     "metadata": {},
     "output_type": "execute_result"
    },
    {
     "data": {
      "image/png": "[encoded data removed]",
      "text/plain": [
       "<Figure size 432x288 with 1 Axes>"
      ]
     },
     "metadata": {},
     "output_type": "display_data"
    }
   ],
   "source": [
    "age = demographic_data.groupby('Age group:')['Age group:'].count()\n",
    "#print(age)\n",
    "age.plot.pie()"
   ]
  },
  {
   "cell_type": "markdown",
   "metadata": {},
   "source": [
    "## Gender"
   ]
  },
  {
   "cell_type": "code",
   "execution_count": 5,
   "metadata": {},
   "outputs": [
    {
     "data": {
      "text/plain": [
       "<AxesSubplot:ylabel='Gender:'>"
      ]
     },
     "execution_count": 5,
     "metadata": {},
     "output_type": "execute_result"
    },
    {
     "data": {
      "image/png": "[encoded data removed]",
      "text/plain": [
       "<Figure size 432x288 with 1 Axes>"
      ]
     },
     "metadata": {},
     "output_type": "display_data"
    }
   ],
   "source": [
    "age = demographic_data.groupby('Gender:')['Gender:'].count()\n",
    "#print(age)\n",
    "age.plot.pie()"
   ]
  },
  {
   "cell_type": "markdown",
   "metadata": {},
   "source": [
    "## Year of Ph.D."
   ]
  },
  {
   "cell_type": "code",
   "execution_count": 6,
   "metadata": {},
   "outputs": [
    {
     "data": {
      "text/plain": [
       "<AxesSubplot:ylabel='Which year of Ph.D. are you in?'>"
      ]
     },
     "execution_count": 6,
     "metadata": {},
     "output_type": "execute_result"
    },
    {
     "data": {
      "image/png": "[encoded data removed]",
      "text/plain": [
       "<Figure size 432x288 with 1 Axes>"
      ]
     },
     "metadata": {},
     "output_type": "display_data"
    }
   ],
   "source": [
    "age = demographic_data.groupby('Which year of Ph.D. are you in?')['Which year of Ph.D. are you in?'].count()\n",
    "#print(age)\n",
    "age.plot.pie()"
   ]
  },
  {
   "cell_type": "markdown",
   "metadata": {},
   "source": [
    "## People doing a Ph.D. in their native language"
   ]
  },
  {
   "cell_type": "code",
   "execution_count": 7,
   "metadata": {},
   "outputs": [
    {
     "data": {
      "text/plain": [
       "<AxesSubplot:ylabel='Are you doing/did you do your Ph.D. in your native language? '>"
      ]
     },
     "execution_count": 7,
     "metadata": {},
     "output_type": "execute_result"
    },
    {
     "data": {
      "image/png": "[encoded data removed]",
      "text/plain": [
       "<Figure size 432x288 with 1 Axes>"
      ]
     },
     "metadata": {},
     "output_type": "display_data"
    }
   ],
   "source": [
    "age = demographic_data.groupby('Are you doing/did you do your Ph.D. in your native language? ')['Are you doing/did you do your Ph.D. in your native language? '].count()\n",
    "#print(age)\n",
    "age.plot.pie()"
   ]
  },
  {
   "cell_type": "markdown",
   "metadata": {},
   "source": [
    "## Number of supervisors"
   ]
  },
  {
   "cell_type": "code",
   "execution_count": 8,
   "metadata": {},
   "outputs": [
    {
     "data": {
      "text/plain": [
       "<AxesSubplot:ylabel='How many supervisors/advisors do/did you have? '>"
      ]
     },
     "execution_count": 8,
     "metadata": {},
     "output_type": "execute_result"
    },
    {
     "data": {
      "image/png": "[encoded data removed]",
      "text/plain": [
       "<Figure size 432x288 with 1 Axes>"
      ]
     },
     "metadata": {},
     "output_type": "display_data"
    }
   ],
   "source": [
    "age = demographic_data.groupby('How many supervisors/advisors do/did you have? ')['How many supervisors/advisors do/did you have? '].count()\n",
    "#print(age)\n",
    "age.plot.pie()"
   ]
  },
  {
   "cell_type": "code",
   "execution_count": null,
   "metadata": {},
   "outputs": [],
   "source": []
  }
 ],
 "metadata": {
  "kernelspec": {
   "display_name": "Python 3",
   "language": "python",
   "name": "python3"
  },
  "language_info": {
   "codemirror_mode": {
    "name": "ipython",
    "version": 3
   },
   "file_extension": ".py",
   "mimetype": "text/x-python",
   "name": "python",
   "nbconvert_exporter": "python",
   "pygments_lexer": "ipython3",
   "version": "3.6.3"
  }
 },
 "nbformat": 4,
 "nbformat_minor": 4
}
