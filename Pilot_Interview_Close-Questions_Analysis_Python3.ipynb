{
 "cells": [
  {
   "cell_type": "markdown",
   "metadata": {},
   "source": [
    "# Set up\n",
    "\n",
    "Libraries included and database load."
   ]
  },
  {
   "cell_type": "code",
   "execution_count": 2,
   "metadata": {},
   "outputs": [],
   "source": [
    "#Import required libraries\n",
    "import numpy as np\n",
    "import pandas as pd"
   ]
  },
  {
   "cell_type": "code",
   "execution_count": 3,
   "metadata": {},
   "outputs": [],
   "source": [
    "#load data\n",
    "# Read data from CSV file\n",
    "\n",
    "csv_path = 'RateYourAcademicSupervisor.csv'\n",
    "df = pd.read_csv(csv_path)"
   ]
  },
  {
   "cell_type": "markdown",
   "metadata": {},
   "source": [
    "# Close-questions about program"
   ]
  },
  {
   "cell_type": "markdown",
   "metadata": {},
   "source": [
    "Extra information about support."
   ]
  },
  {
   "cell_type": "code",
   "execution_count": 4,
   "metadata": {},
   "outputs": [
    {
     "data": {
      "text/html": [
       "<div>\n",
       "<style scoped>\n",
       "    .dataframe tbody tr th:only-of-type {\n",
       "        vertical-align: middle;\n",
       "    }\n",
       "\n",
       "    .dataframe tbody tr th {\n",
       "        vertical-align: top;\n",
       "    }\n",
       "\n",
       "    .dataframe thead th {\n",
       "        text-align: right;\n",
       "    }\n",
       "</style>\n",
       "<table border=\"1\" class=\"dataframe\">\n",
       "  <thead>\n",
       "    <tr style=\"text-align: right;\">\n",
       "      <th></th>\n",
       "      <th>Do/did you have access to other support services besides your supervisor/advisor in your institution, i.e. a mentor?</th>\n",
       "      <th>If yes, do/did you make use of such services?</th>\n",
       "      <th>If no, do you think such services would make a difference to the Ph.D. experience?</th>\n",
       "    </tr>\n",
       "  </thead>\n",
       "  <tbody>\n",
       "    <tr>\n",
       "      <th>0</th>\n",
       "      <td>Yes</td>\n",
       "      <td>No</td>\n",
       "      <td>Yes</td>\n",
       "    </tr>\n",
       "    <tr>\n",
       "      <th>1</th>\n",
       "      <td>No</td>\n",
       "      <td>No</td>\n",
       "      <td>Yes</td>\n",
       "    </tr>\n",
       "    <tr>\n",
       "      <th>2</th>\n",
       "      <td>No</td>\n",
       "      <td>No</td>\n",
       "      <td>Yes</td>\n",
       "    </tr>\n",
       "    <tr>\n",
       "      <th>3</th>\n",
       "      <td>Yes</td>\n",
       "      <td>Yes</td>\n",
       "      <td>Yes</td>\n",
       "    </tr>\n",
       "    <tr>\n",
       "      <th>4</th>\n",
       "      <td>No</td>\n",
       "      <td>No</td>\n",
       "      <td>Yes</td>\n",
       "    </tr>\n",
       "    <tr>\n",
       "      <th>5</th>\n",
       "      <td>No</td>\n",
       "      <td>NaN</td>\n",
       "      <td>Yes</td>\n",
       "    </tr>\n",
       "    <tr>\n",
       "      <th>6</th>\n",
       "      <td>Yes</td>\n",
       "      <td>Yes</td>\n",
       "      <td>Yes</td>\n",
       "    </tr>\n",
       "  </tbody>\n",
       "</table>\n",
       "</div>"
      ],
      "text/plain": [
       "  Do/did you have access to other support services besides your supervisor/advisor in your institution, i.e. a mentor?   \\\n",
       "0                                                Yes                                                                      \n",
       "1                                                 No                                                                      \n",
       "2                                                 No                                                                      \n",
       "3                                                Yes                                                                      \n",
       "4                                                 No                                                                      \n",
       "5                                                 No                                                                      \n",
       "6                                                Yes                                                                      \n",
       "\n",
       "  If yes, do/did you make use of such services?   \\\n",
       "0                                             No   \n",
       "1                                             No   \n",
       "2                                             No   \n",
       "3                                            Yes   \n",
       "4                                             No   \n",
       "5                                            NaN   \n",
       "6                                            Yes   \n",
       "\n",
       "   If no, do you think such services would make a difference to the Ph.D. experience?  \n",
       "0                                                Yes                                   \n",
       "1                                                Yes                                   \n",
       "2                                                Yes                                   \n",
       "3                                                Yes                                   \n",
       "4                                                Yes                                   \n",
       "5                                                Yes                                   \n",
       "6                                                Yes                                   "
      ]
     },
     "execution_count": 4,
     "metadata": {},
     "output_type": "execute_result"
    }
   ],
   "source": [
    "extra_support=df[['Do/did you have access to other support services besides your supervisor/advisor in your institution, i.e. a mentor? ',\n",
    "       'If yes, do/did you make use of such services? ',\n",
    "       ' If no, do you think such services would make a difference to the Ph.D. experience?']]\n",
    "extra_support"
   ]
  },
  {
   "cell_type": "markdown",
   "metadata": {},
   "source": [
    "# Close-questions with reviews"
   ]
  },
  {
   "cell_type": "markdown",
   "metadata": {},
   "source": [
    "#### Supervisor's name"
   ]
  },
  {
   "cell_type": "code",
   "execution_count": 14,
   "metadata": {
    "scrolled": true
   },
   "outputs": [
    {
     "name": "stdout",
     "output_type": "stream",
     "text": [
      "                       Name of Main Supervisor (1): \n",
      "0  Not comfortable giving names (Lead supervisor ...\n",
      "1                                     Juliane filser\n",
      "2                                    Natasha Ravioli\n",
      "3                                   Dimitris Tziovas\n",
      "4                                         June Jones\n",
      "5                                                 TS\n",
      "6                                                 XX\n",
      "0        Academic Supervisor Team 2\n",
      "2                    Anissa Dawoodi\n",
      "4                       Ben Kotzee \n",
      "0    Practice Supervisor (Team 1&2)\n",
      "2                    Hanem Farahaty\n",
      "4                       Ian Davison\n",
      "4            Kristjan Kristjansson \n",
      "dtype: object\n"
     ]
    }
   ],
   "source": [
    "supervisor_name_m = df[['Name of Main Supervisor (1): ']]\n",
    "supervisor_name_s = pd.concat([df['Name of Supervisor (2)'],df['Name of Supervisor (3): '],df['Name of Supervisor (4): ']])\n",
    "supervisor_name_s = supervisor_name_s.dropna()\n",
    "print(supervisor_name_m)\n",
    "print(supervisor_name_s)"
   ]
  },
  {
   "cell_type": "markdown",
   "metadata": {},
   "source": [
    "#### Reviews for Academic Support\n",
    "\n",
    "Knowledge of the field (literature), the variable name in this case is `as_literature`."
   ]
  },
  {
   "cell_type": "code",
   "execution_count": 15,
   "metadata": {},
   "outputs": [
    {
     "data": {
      "text/html": [
       "<div>\n",
       "<style scoped>\n",
       "    .dataframe tbody tr th:only-of-type {\n",
       "        vertical-align: middle;\n",
       "    }\n",
       "\n",
       "    .dataframe tbody tr th {\n",
       "        vertical-align: top;\n",
       "    }\n",
       "\n",
       "    .dataframe thead th {\n",
       "        text-align: right;\n",
       "    }\n",
       "</style>\n",
       "<table border=\"1\" class=\"dataframe\">\n",
       "  <thead>\n",
       "    <tr style=\"text-align: right;\">\n",
       "      <th></th>\n",
       "      <th>Academic Support [Knowledge of the field (literature)]</th>\n",
       "      <th>Academic Support [Knowledge of the field (literature)].1</th>\n",
       "      <th>Academic Support [Knowledge of the field (literature)].2</th>\n",
       "      <th>Academic Support [Knowledge of the field (literature)].3</th>\n",
       "    </tr>\n",
       "  </thead>\n",
       "  <tbody>\n",
       "    <tr>\n",
       "      <th>0</th>\n",
       "      <td>8</td>\n",
       "      <td>NaN</td>\n",
       "      <td>NaN</td>\n",
       "      <td>NaN</td>\n",
       "    </tr>\n",
       "    <tr>\n",
       "      <th>1</th>\n",
       "      <td>9</td>\n",
       "      <td>NaN</td>\n",
       "      <td>NaN</td>\n",
       "      <td>NaN</td>\n",
       "    </tr>\n",
       "    <tr>\n",
       "      <th>2</th>\n",
       "      <td>9</td>\n",
       "      <td>3.0</td>\n",
       "      <td>9.0</td>\n",
       "      <td>NaN</td>\n",
       "    </tr>\n",
       "    <tr>\n",
       "      <th>3</th>\n",
       "      <td>2</td>\n",
       "      <td>NaN</td>\n",
       "      <td>NaN</td>\n",
       "      <td>NaN</td>\n",
       "    </tr>\n",
       "    <tr>\n",
       "      <th>4</th>\n",
       "      <td>8</td>\n",
       "      <td>7.0</td>\n",
       "      <td>2.0</td>\n",
       "      <td>7.0</td>\n",
       "    </tr>\n",
       "    <tr>\n",
       "      <th>5</th>\n",
       "      <td>6</td>\n",
       "      <td>NaN</td>\n",
       "      <td>NaN</td>\n",
       "      <td>NaN</td>\n",
       "    </tr>\n",
       "    <tr>\n",
       "      <th>6</th>\n",
       "      <td>5</td>\n",
       "      <td>NaN</td>\n",
       "      <td>NaN</td>\n",
       "      <td>NaN</td>\n",
       "    </tr>\n",
       "  </tbody>\n",
       "</table>\n",
       "</div>"
      ],
      "text/plain": [
       "   Academic Support [Knowledge of the field (literature)]  \\\n",
       "0                                                  8        \n",
       "1                                                  9        \n",
       "2                                                  9        \n",
       "3                                                  2        \n",
       "4                                                  8        \n",
       "5                                                  6        \n",
       "6                                                  5        \n",
       "\n",
       "   Academic Support [Knowledge of the field (literature)].1  \\\n",
       "0                                                NaN          \n",
       "1                                                NaN          \n",
       "2                                                3.0          \n",
       "3                                                NaN          \n",
       "4                                                7.0          \n",
       "5                                                NaN          \n",
       "6                                                NaN          \n",
       "\n",
       "   Academic Support [Knowledge of the field (literature)].2  \\\n",
       "0                                                NaN          \n",
       "1                                                NaN          \n",
       "2                                                9.0          \n",
       "3                                                NaN          \n",
       "4                                                2.0          \n",
       "5                                                NaN          \n",
       "6                                                NaN          \n",
       "\n",
       "   Academic Support [Knowledge of the field (literature)].3  \n",
       "0                                                NaN         \n",
       "1                                                NaN         \n",
       "2                                                NaN         \n",
       "3                                                NaN         \n",
       "4                                                7.0         \n",
       "5                                                NaN         \n",
       "6                                                NaN         "
      ]
     },
     "execution_count": 15,
     "metadata": {},
     "output_type": "execute_result"
    }
   ],
   "source": [
    "df[['Academic Support [Knowledge of the field (literature)]','Academic Support [Knowledge of the field (literature)].1',\n",
    "'Academic Support [Knowledge of the field (literature)].2','Academic Support [Knowledge of the field (literature)].3']]"
   ]
  },
  {
   "cell_type": "markdown",
   "metadata": {},
   "source": [
    "The analysis of the main supervisor appears for each question, but the secondary supervisors are concatenated into one column."
   ]
  },
  {
   "cell_type": "markdown",
   "metadata": {},
   "source": [
    "##### Question 1"
   ]
  },
  {
   "cell_type": "code",
   "execution_count": 16,
   "metadata": {},
   "outputs": [
    {
     "name": "stdout",
     "output_type": "stream",
     "text": [
      "0    8\n",
      "1    9\n",
      "2    9\n",
      "3    2\n",
      "4    8\n",
      "5    6\n",
      "6    5\n",
      "Name: Academic Support [Knowledge of the field (literature)], dtype: int64\n",
      "2    3.0\n",
      "4    7.0\n",
      "2    9.0\n",
      "4    2.0\n",
      "4    7.0\n",
      "Name: Academic Support [Knowledge of the field (literature)], dtype: float64\n"
     ]
    }
   ],
   "source": [
    "#Question 1\n",
    "as_literature_m = df['Academic Support [Knowledge of the field (literature)]']\n",
    "as_literature_s = pd.concat([df['Academic Support [Knowledge of the field (literature)].1'].rename('Academic Support [Knowledge of the field (literature)]'),\n",
    "                             df['Academic Support [Knowledge of the field (literature)].2'].rename('Academic Support [Knowledge of the field (literature)]'),\n",
    "                             df['Academic Support [Knowledge of the field (literature)].3'].rename('Academic Support [Knowledge of the field (literature)]')])\n",
    "as_literature_s = as_literature_s.dropna()\n",
    "print(as_literature_m)\n",
    "print(as_literature_s)"
   ]
  },
  {
   "cell_type": "markdown",
   "metadata": {},
   "source": [
    "For main supervisor"
   ]
  },
  {
   "cell_type": "code",
   "execution_count": 17,
   "metadata": {},
   "outputs": [
    {
     "data": {
      "text/plain": [
       "<AxesSubplot:ylabel='Frequency'>"
      ]
     },
     "execution_count": 17,
     "metadata": {},
     "output_type": "execute_result"
    },
    {
     "data": {
      "image/png": "[encoded data removed]",
      "text/plain": [
       "<Figure size 432x288 with 1 Axes>"
      ]
     },
     "metadata": {
      "needs_background": "light"
     },
     "output_type": "display_data"
    }
   ],
   "source": [
    "as_literature_m.plot.hist()"
   ]
  },
  {
   "cell_type": "code",
   "execution_count": 18,
   "metadata": {},
   "outputs": [
    {
     "data": {
      "text/plain": [
       "<AxesSubplot:ylabel='Frequency'>"
      ]
     },
     "execution_count": 18,
     "metadata": {},
     "output_type": "execute_result"
    },
    {
     "data": {
      "image/png": "[encoded data removed]",
      "text/plain": [
       "<Figure size 432x288 with 1 Axes>"
      ]
     },
     "metadata": {
      "needs_background": "light"
     },
     "output_type": "display_data"
    }
   ],
   "source": [
    "as_literature_s.plot.hist()"
   ]
  },
  {
   "cell_type": "markdown",
   "metadata": {},
   "source": [
    "Question 2."
   ]
  },
  {
   "cell_type": "code",
   "execution_count": 19,
   "metadata": {},
   "outputs": [
    {
     "name": "stdout",
     "output_type": "stream",
     "text": [
      "1    7.0\n",
      "2    1.0\n",
      "3    7.0\n",
      "4    7.0\n",
      "5    6.0\n",
      "6    7.0\n",
      "Name: Academic Support [Conference participation encouragement], dtype: float64\n",
      "2    8.0\n",
      "4    6.0\n",
      "2    9.0\n",
      "4    3.0\n",
      "4    7.0\n",
      "Name: Academic Support [Conference participation encouragement], dtype: float64\n"
     ]
    }
   ],
   "source": [
    "#Question 2 [31,59,87,115]\n",
    "as_encouragement_m = df['Academic Support [Conference participation encouragement]']\n",
    "as_encouragement_m = as_encouragement_m.dropna()\n",
    "as_encouragement_s = pd.concat([df['Academic Support [Conference participation encouragement].1'].rename('Academic Support [Conference participation encouragement]'),\n",
    "                                df['Academic Support [Conference participation encouragement].2'].rename('Academic Support [Conference participation encouragement]'),\n",
    "                                df['Academic Support [Conference participation encouragement].3'].rename('Academic Support [Conference participation encouragement]')])\n",
    "as_encouragement_s = as_encouragement_s.dropna()\n",
    "print(as_encouragement_m)\n",
    "print(as_encouragement_s)"
   ]
  },
  {
   "cell_type": "code",
   "execution_count": 20,
   "metadata": {},
   "outputs": [
    {
     "data": {
      "text/plain": [
       "<AxesSubplot:ylabel='Frequency'>"
      ]
     },
     "execution_count": 20,
     "metadata": {},
     "output_type": "execute_result"
    },
    {
     "data": {
      "image/png": "[encoded data removed]",
      "text/plain": [
       "<Figure size 432x288 with 1 Axes>"
      ]
     },
     "metadata": {
      "needs_background": "light"
     },
     "output_type": "display_data"
    }
   ],
   "source": [
    "as_encouragement_m.plot.hist()"
   ]
  },
  {
   "cell_type": "code",
   "execution_count": 21,
   "metadata": {},
   "outputs": [
    {
     "data": {
      "text/plain": [
       "<AxesSubplot:ylabel='Frequency'>"
      ]
     },
     "execution_count": 21,
     "metadata": {},
     "output_type": "execute_result"
    },
    {
     "data": {
      "image/png": "[encoded data removed]",
      "text/plain": [
       "<Figure size 432x288 with 1 Axes>"
      ]
     },
     "metadata": {
      "needs_background": "light"
     },
     "output_type": "display_data"
    }
   ],
   "source": [
    "as_encouragement_s.plot.hist()"
   ]
  },
  {
   "cell_type": "markdown",
   "metadata": {},
   "source": [
    "Question 3:"
   ]
  },
  {
   "cell_type": "code",
   "execution_count": 22,
   "metadata": {},
   "outputs": [
    {
     "name": "stdout",
     "output_type": "stream",
     "text": [
      "1    6.0\n",
      "2    1.0\n",
      "3    5.0\n",
      "4    0.0\n",
      "5    1.0\n",
      "6    9.0\n",
      "Name: Academic Support [Teaching opportunities], dtype: float64\n",
      "2    8.0\n",
      "4    0.0\n",
      "2    0.0\n",
      "4    0.0\n",
      "4    0.0\n",
      "Name: Academic Support [Teaching opportunities], dtype: float64\n"
     ]
    }
   ],
   "source": [
    "#Question 3 [32,60,88,116]\n",
    "as_teaching_m = df['Academic Support [Teaching opportunities]']\n",
    "as_teaching_m = as_teaching_m.dropna()\n",
    "as_teaching_s = pd.concat([df['Academic Support [Teaching opportunities].1'].rename('Academic Support [Teaching opportunities]'),\n",
    "                           df['Academic Support [Teaching opportunities].2'].rename('Academic Support [Teaching opportunities]'),\n",
    "                           df['Academic Support [Teaching opportunities].3'].rename('Academic Support [Teaching opportunities]')])\n",
    "as_teaching_s = as_teaching_s.dropna()\n",
    "print(as_teaching_m)\n",
    "print(as_teaching_s)"
   ]
  },
  {
   "cell_type": "code",
   "execution_count": 24,
   "metadata": {},
   "outputs": [
    {
     "data": {
      "text/plain": [
       "<AxesSubplot:ylabel='Frequency'>"
      ]
     },
     "execution_count": 24,
     "metadata": {},
     "output_type": "execute_result"
    },
    {
     "data": {
      "image/png": "[encoded data removed]",
      "text/plain": [
       "<Figure size 432x288 with 1 Axes>"
      ]
     },
     "metadata": {
      "needs_background": "light"
     },
     "output_type": "display_data"
    }
   ],
   "source": [
    "as_teaching_m.plot.hist()"
   ]
  },
  {
   "cell_type": "code",
   "execution_count": 25,
   "metadata": {},
   "outputs": [
    {
     "data": {
      "text/plain": [
       "<AxesSubplot:ylabel='Frequency'>"
      ]
     },
     "execution_count": 25,
     "metadata": {},
     "output_type": "execute_result"
    },
    {
     "data": {
      "image/png": "[encoded data removed]",
      "text/plain": [
       "<Figure size 432x288 with 1 Axes>"
      ]
     },
     "metadata": {
      "needs_background": "light"
     },
     "output_type": "display_data"
    }
   ],
   "source": [
    "as_teaching_s.plot.hist()"
   ]
  },
  {
   "cell_type": "markdown",
   "metadata": {},
   "source": [
    "Question 4:"
   ]
  },
  {
   "cell_type": "code",
   "execution_count": 28,
   "metadata": {},
   "outputs": [
    {
     "name": "stdout",
     "output_type": "stream",
     "text": [
      "1    1.0\n",
      "2    1.0\n",
      "3    2.0\n",
      "4    8.0\n",
      "5    9.0\n",
      "6    2.0\n",
      "Name: Academic Support [Thesis writing/guidance], dtype: float64\n",
      "2    0.0\n",
      "4    5.0\n",
      "2    9.0\n",
      "4    7.0\n",
      "4    7.0\n",
      "Name: Academic Support [Thesis writing/guidance], dtype: float64\n"
     ]
    }
   ],
   "source": [
    "#Question 4 [33,61,89,117]\n",
    "as_guidance_m = df['Academic Support [Thesis writing/guidance]']\n",
    "as_guidance_m = as_guidance_m.dropna()\n",
    "as_guidance_s = pd.concat([df['Academic Support [Thesis writing/guidance].1'].rename('Academic Support [Thesis writing/guidance]'),\n",
    "                           df['Academic Support [Thesis writing/guidance].2'].rename('Academic Support [Thesis writing/guidance]'),\n",
    "                           df['Academic Support [Thesis writing/guidance].3'].rename('Academic Support [Thesis writing/guidance]')])\n",
    "as_guidance_s = as_guidance_s.dropna()\n",
    "print(as_guidance_m)\n",
    "print(as_guidance_s)"
   ]
  },
  {
   "cell_type": "code",
   "execution_count": 30,
   "metadata": {},
   "outputs": [
    {
     "data": {
      "text/plain": [
       "<AxesSubplot:ylabel='Frequency'>"
      ]
     },
     "execution_count": 30,
     "metadata": {},
     "output_type": "execute_result"
    },
    {
     "data": {
      "image/png": "[encoded data removed]",
      "text/plain": [
       "<Figure size 432x288 with 1 Axes>"
      ]
     },
     "metadata": {
      "needs_background": "light"
     },
     "output_type": "display_data"
    }
   ],
   "source": [
    "as_guidance_m.plot.hist()"
   ]
  },
  {
   "cell_type": "code",
   "execution_count": 31,
   "metadata": {},
   "outputs": [
    {
     "data": {
      "text/plain": [
       "<AxesSubplot:ylabel='Frequency'>"
      ]
     },
     "execution_count": 31,
     "metadata": {},
     "output_type": "execute_result"
    },
    {
     "data": {
      "image/png": "[encoded data removed]",
      "text/plain": [
       "<Figure size 432x288 with 1 Axes>"
      ]
     },
     "metadata": {
      "needs_background": "light"
     },
     "output_type": "display_data"
    }
   ],
   "source": [
    "as_guidance_s.plot.hist()"
   ]
  },
  {
   "cell_type": "code",
   "execution_count": 33,
   "metadata": {},
   "outputs": [
    {
     "name": "stdout",
     "output_type": "stream",
     "text": [
      "1    5.0\n",
      "2    3.0\n",
      "3    1.0\n",
      "4    8.0\n",
      "5    9.0\n",
      "6    2.0\n",
      "Name: Academic Support [Methodology guidance/sources], dtype: float64\n",
      "1    5.0\n",
      "2    3.0\n",
      "3    1.0\n",
      "4    8.0\n",
      "5    9.0\n",
      "6    2.0\n",
      "Name: Academic Support [Methodology guidance/sources], dtype: float64\n"
     ]
    }
   ],
   "source": [
    "#Question 5 [34,62,90,118]\n",
    "as_sources_m = df['Academic Support [Methodology guidance/sources]']\n",
    "as_sources_m = as_sources_m.dropna()\n",
    "as_sources_s = pd.concat([df['Academic Support [Methodology guidance/sources].1'].rename('Academic Support [Methodology guidance/sources]'),\n",
    "                          df['Academic Support [Methodology guidance/sources].2'].rename('Academic Support [Methodology guidance/sources]'),\n",
    "                          df['Academic Support [Methodology guidance/sources].3'].rename('Academic Support [Methodology guidance/sources]')])\n",
    "as_sources_s = as_sources_m.dropna()\n",
    "print(as_sources_m)\n",
    "print(as_sources_s)"
   ]
  },
  {
   "cell_type": "code",
   "execution_count": 34,
   "metadata": {},
   "outputs": [
    {
     "data": {
      "text/plain": [
       "<AxesSubplot:ylabel='Frequency'>"
      ]
     },
     "execution_count": 34,
     "metadata": {},
     "output_type": "execute_result"
    },
    {
     "data": {
      "image/png": "[encoded data removed]",
      "text/plain": [
       "<Figure size 432x288 with 1 Axes>"
      ]
     },
     "metadata": {
      "needs_background": "light"
     },
     "output_type": "display_data"
    }
   ],
   "source": [
    "as_sources_m.plot.hist()"
   ]
  },
  {
   "cell_type": "code",
   "execution_count": 35,
   "metadata": {},
   "outputs": [
    {
     "data": {
      "text/plain": [
       "<AxesSubplot:ylabel='Frequency'>"
      ]
     },
     "execution_count": 35,
     "metadata": {},
     "output_type": "execute_result"
    },
    {
     "data": {
      "image/png": "[encoded data removed]",
      "text/plain": [
       "<Figure size 432x288 with 1 Axes>"
      ]
     },
     "metadata": {
      "needs_background": "light"
     },
     "output_type": "display_data"
    }
   ],
   "source": [
    "as_sources_s.plot.hist()"
   ]
  },
  {
   "cell_type": "code",
   "execution_count": 37,
   "metadata": {},
   "outputs": [
    {
     "name": "stdout",
     "output_type": "stream",
     "text": [
      "1    2.0\n",
      "2    1.0\n",
      "3    7.0\n",
      "4    7.0\n",
      "5    0.0\n",
      "6    7.0\n",
      "Name: Academic Support [Support for publications (named author)], dtype: float64\n",
      "2    9.0\n",
      "4    0.0\n",
      "2    9.0\n",
      "4    0.0\n",
      "4    5.0\n",
      "Name: Academic Support [Support for publications (named author)], dtype: float64\n"
     ]
    }
   ],
   "source": [
    "#Question 6 [35,63,91,119]\n",
    "as_publication_m = df['Academic Support [Support for publications (named author)]']\n",
    "as_publication_m = as_publication_m.dropna()\n",
    "as_publication_s = pd.concat([df['Academic Support [Support for publications (named author)].1'].rename('Academic Support [Support for publications (named author)]'),\n",
    "                              df['Academic Support [Support for publications (named author)].2'].rename('Academic Support [Support for publications (named author)]'),\n",
    "                              df['Academic Support [Support for publications (named author)].3'].rename('Academic Support [Support for publications (named author)]')])\n",
    "as_publication_s = as_publication_s.dropna()\n",
    "print(as_publication_m)\n",
    "print(as_publication_s)"
   ]
  },
  {
   "cell_type": "code",
   "execution_count": 38,
   "metadata": {},
   "outputs": [
    {
     "data": {
      "text/plain": [
       "<AxesSubplot:ylabel='Frequency'>"
      ]
     },
     "execution_count": 38,
     "metadata": {},
     "output_type": "execute_result"
    },
    {
     "data": {
      "image/png": "[encoded data removed]",
      "text/plain": [
       "<Figure size 432x288 with 1 Axes>"
      ]
     },
     "metadata": {
      "needs_background": "light"
     },
     "output_type": "display_data"
    }
   ],
   "source": [
    "as_publication_m.plot.hist()"
   ]
  },
  {
   "cell_type": "code",
   "execution_count": 39,
   "metadata": {},
   "outputs": [
    {
     "data": {
      "text/plain": [
       "<AxesSubplot:ylabel='Frequency'>"
      ]
     },
     "execution_count": 39,
     "metadata": {},
     "output_type": "execute_result"
    },
    {
     "data": {
      "image/png": "[encoded data removed]",
      "text/plain": [
       "<Figure size 432x288 with 1 Axes>"
      ]
     },
     "metadata": {
      "needs_background": "light"
     },
     "output_type": "display_data"
    }
   ],
   "source": [
    "as_publication_s.plot.hist()"
   ]
  },
  {
   "cell_type": "code",
   "execution_count": 41,
   "metadata": {},
   "outputs": [
    {
     "name": "stdout",
     "output_type": "stream",
     "text": [
      "1    0.0\n",
      "2    2.0\n",
      "3    0.0\n",
      "4    8.0\n",
      "5    8.0\n",
      "6    0.0\n",
      "Name: Academic Support [Ethics form guidance], dtype: float64\n",
      "2    5.0\n",
      "4    0.0\n",
      "2    0.0\n",
      "4    7.0\n",
      "4    0.0\n",
      "Name: Academic Support [Ethics form guidance], dtype: float64\n"
     ]
    }
   ],
   "source": [
    "#Question 7 [36,64,92,120]\n",
    "as_ethics_m = df['Academic Support [Ethics form guidance]']\n",
    "as_ethics_m = as_ethics_m.dropna()\n",
    "as_ethics_s = pd.concat([df['Academic Support [Ethics form guidance].1'].rename('Academic Support [Ethics form guidance]'),\n",
    "                         df['Academic Support [Ethics form guidance].2'].rename('Academic Support [Ethics form guidance]'),\n",
    "                         df['Academic Support [Ehtics form guidance]'].rename('Academic Support [Ethics form guidance]')])\n",
    "as_ethics_s = as_ethics_s.dropna()\n",
    "print(as_ethics_m)\n",
    "print(as_ethics_s)"
   ]
  },
  {
   "cell_type": "code",
   "execution_count": 42,
   "metadata": {},
   "outputs": [
    {
     "data": {
      "text/plain": [
       "<AxesSubplot:ylabel='Frequency'>"
      ]
     },
     "execution_count": 42,
     "metadata": {},
     "output_type": "execute_result"
    },
    {
     "data": {
      "image/png": "[encoded data removed]",
      "text/plain": [
       "<Figure size 432x288 with 1 Axes>"
      ]
     },
     "metadata": {
      "needs_background": "light"
     },
     "output_type": "display_data"
    }
   ],
   "source": [
    "as_ethics_m.plot.hist()"
   ]
  },
  {
   "cell_type": "code",
   "execution_count": 43,
   "metadata": {},
   "outputs": [
    {
     "data": {
      "text/plain": [
       "<AxesSubplot:ylabel='Frequency'>"
      ]
     },
     "execution_count": 43,
     "metadata": {},
     "output_type": "execute_result"
    },
    {
     "data": {
      "image/png": "[encoded data removed]",
      "text/plain": [
       "<Figure size 432x288 with 1 Axes>"
      ]
     },
     "metadata": {
      "needs_background": "light"
     },
     "output_type": "display_data"
    }
   ],
   "source": [
    "as_ethics_s.plot.hist()"
   ]
  },
  {
   "cell_type": "markdown",
   "metadata": {},
   "source": [
    "All questions together for only primary supervisor:"
   ]
  },
  {
   "cell_type": "code",
   "execution_count": 48,
   "metadata": {},
   "outputs": [
    {
     "data": {
      "text/plain": [
       "<AxesSubplot:>"
      ]
     },
     "execution_count": 48,
     "metadata": {},
     "output_type": "execute_result"
    },
    {
     "data": {
      "image/png": "[encoded data removed]",
      "text/plain": [
       "<Figure size 1152x576 with 1 Axes>"
      ]
     },
     "metadata": {
      "needs_background": "light"
     },
     "output_type": "display_data"
    }
   ],
   "source": [
    "all_questions_m = df[['Academic Support [Knowledge of the field (literature)]',\n",
    "                      'Academic Support [Conference participation encouragement]',\n",
    "                      'Academic Support [Teaching opportunities]',\n",
    "                      'Academic Support [Thesis writing/guidance]',\n",
    "                      'Academic Support [Methodology guidance/sources]',\n",
    "                      'Academic Support [Support for publications (named author)]',\n",
    "                      'Academic Support [Ethics form guidance]']]\n",
    "\n",
    "all_questions_m.plot.bar(figsize=(16, 8))"
   ]
  }
 ],
 "metadata": {
  "kernelspec": {
   "display_name": "Python 3",
   "language": "python",
   "name": "python3"
  },
  "language_info": {
   "codemirror_mode": {
    "name": "ipython",
    "version": 3
   },
   "file_extension": ".py",
   "mimetype": "text/x-python",
   "name": "python",
   "nbconvert_exporter": "python",
   "pygments_lexer": "ipython3",
   "version": "3.6.3"
  }
 },
 "nbformat": 4,
 "nbformat_minor": 4
}
