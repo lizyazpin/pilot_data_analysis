{
 "cells": [
  {
   "cell_type": "markdown",
   "metadata": {},
   "source": [
    "# Introduction\n",
    "\n",
    "## Data\n",
    "\n"
   ]
  },
  {
   "cell_type": "code",
   "execution_count": 1,
   "metadata": {},
   "outputs": [],
   "source": [
    "#Import required libraries\n",
    "import numpy as np\n",
    "import pandas as pd"
   ]
  },
  {
   "cell_type": "code",
   "execution_count": 2,
   "metadata": {},
   "outputs": [],
   "source": [
    "#load data\n",
    "# Read data from CSV file\n",
    "\n",
    "csv_path = 'RateYourAcademicSupervisor.csv'\n",
    "df = pd.read_csv(csv_path)"
   ]
  },
  {
   "cell_type": "code",
   "execution_count": 3,
   "metadata": {
    "scrolled": true
   },
   "outputs": [
    {
     "data": {
      "text/html": [
       "<div>\n",
       "<style scoped>\n",
       "    .dataframe tbody tr th:only-of-type {\n",
       "        vertical-align: middle;\n",
       "    }\n",
       "\n",
       "    .dataframe tbody tr th {\n",
       "        vertical-align: top;\n",
       "    }\n",
       "\n",
       "    .dataframe thead th {\n",
       "        text-align: right;\n",
       "    }\n",
       "</style>\n",
       "<table border=\"1\" class=\"dataframe\">\n",
       "  <thead>\n",
       "    <tr style=\"text-align: right;\">\n",
       "      <th></th>\n",
       "      <th>Timestamp</th>\n",
       "      <th>To be taken to the next page please tick both boxes below.</th>\n",
       "      <th>Age group:</th>\n",
       "      <th>Gender:</th>\n",
       "      <th>Which year of Ph.D. are you in?</th>\n",
       "      <th>Are you doing/did you do your Ph.D. in your native language?</th>\n",
       "      <th>Are you doing/did you do your Ph.D. in your native country?</th>\n",
       "      <th>How many supervisors/advisors do/did you have?</th>\n",
       "      <th>Is/was one of them the primary/lead supervisor/advisor?</th>\n",
       "      <th>Could you give a definition of the supervisor/advisor?</th>\n",
       "      <th>...</th>\n",
       "      <th>Unnamed: 179</th>\n",
       "      <th>Unnamed: 180</th>\n",
       "      <th>Unnamed: 181</th>\n",
       "      <th>Unnamed: 182</th>\n",
       "      <th>Unnamed: 183</th>\n",
       "      <th>Unnamed: 184</th>\n",
       "      <th>Unnamed: 185</th>\n",
       "      <th>Unnamed: 186</th>\n",
       "      <th>Unnamed: 187</th>\n",
       "      <th>Unnamed: 188</th>\n",
       "    </tr>\n",
       "  </thead>\n",
       "  <tbody>\n",
       "    <tr>\n",
       "      <th>0</th>\n",
       "      <td>2021/02/14 8:16:29 am GMT-5</td>\n",
       "      <td>I consent to my responses being used for the p...</td>\n",
       "      <td>36-40</td>\n",
       "      <td>Female</td>\n",
       "      <td>Graduated</td>\n",
       "      <td>No</td>\n",
       "      <td>No</td>\n",
       "      <td>3</td>\n",
       "      <td>Yes</td>\n",
       "      <td>-a supporter\\n-an academic advisor - someone w...</td>\n",
       "      <td>...</td>\n",
       "      <td>9.0</td>\n",
       "      <td>4.0</td>\n",
       "      <td>9.0</td>\n",
       "      <td>9.0</td>\n",
       "      <td>0.0</td>\n",
       "      <td>6.0</td>\n",
       "      <td>10.0</td>\n",
       "      <td>2.0</td>\n",
       "      <td>0.0</td>\n",
       "      <td>10.0</td>\n",
       "    </tr>\n",
       "    <tr>\n",
       "      <th>1</th>\n",
       "      <td>2021/02/23 8:14:03 am GMT-5</td>\n",
       "      <td>I consent to my responses being used for the p...</td>\n",
       "      <td>26-30</td>\n",
       "      <td>Female</td>\n",
       "      <td>2nd</td>\n",
       "      <td>Yes</td>\n",
       "      <td>Yes</td>\n",
       "      <td>1</td>\n",
       "      <td>Yes</td>\n",
       "      <td>someone who gives you leadership and the freed...</td>\n",
       "      <td>...</td>\n",
       "      <td>NaN</td>\n",
       "      <td>NaN</td>\n",
       "      <td>NaN</td>\n",
       "      <td>NaN</td>\n",
       "      <td>NaN</td>\n",
       "      <td>NaN</td>\n",
       "      <td>NaN</td>\n",
       "      <td>NaN</td>\n",
       "      <td>NaN</td>\n",
       "      <td>NaN</td>\n",
       "    </tr>\n",
       "    <tr>\n",
       "      <th>2</th>\n",
       "      <td>2021/03/05 1:09:55 pm GMT-5</td>\n",
       "      <td>I consent to my responses being used for the p...</td>\n",
       "      <td>36-40</td>\n",
       "      <td>Female</td>\n",
       "      <td>Graduated</td>\n",
       "      <td>No</td>\n",
       "      <td>No</td>\n",
       "      <td>3</td>\n",
       "      <td>Yes</td>\n",
       "      <td>critically evaluate your work\\nhelp in job opp...</td>\n",
       "      <td>...</td>\n",
       "      <td>NaN</td>\n",
       "      <td>NaN</td>\n",
       "      <td>NaN</td>\n",
       "      <td>NaN</td>\n",
       "      <td>NaN</td>\n",
       "      <td>NaN</td>\n",
       "      <td>NaN</td>\n",
       "      <td>NaN</td>\n",
       "      <td>NaN</td>\n",
       "      <td>NaN</td>\n",
       "    </tr>\n",
       "    <tr>\n",
       "      <th>3</th>\n",
       "      <td>2021/03/06 2:07:21 pm GMT-5</td>\n",
       "      <td>I consent to my responses being used for the p...</td>\n",
       "      <td>26-30</td>\n",
       "      <td>Male</td>\n",
       "      <td>Graduated</td>\n",
       "      <td>No</td>\n",
       "      <td>No</td>\n",
       "      <td>2</td>\n",
       "      <td>Yes</td>\n",
       "      <td>Someone who\\nfollows my research\\nsuggests for...</td>\n",
       "      <td>...</td>\n",
       "      <td>NaN</td>\n",
       "      <td>NaN</td>\n",
       "      <td>NaN</td>\n",
       "      <td>NaN</td>\n",
       "      <td>NaN</td>\n",
       "      <td>NaN</td>\n",
       "      <td>NaN</td>\n",
       "      <td>NaN</td>\n",
       "      <td>NaN</td>\n",
       "      <td>NaN</td>\n",
       "    </tr>\n",
       "    <tr>\n",
       "      <th>4</th>\n",
       "      <td>2021/03/14 12:10:53 pm GMT-5</td>\n",
       "      <td>I consent to my responses being used for the p...</td>\n",
       "      <td>41+</td>\n",
       "      <td>Female</td>\n",
       "      <td>5th+</td>\n",
       "      <td>Yes</td>\n",
       "      <td>Yes</td>\n",
       "      <td>More</td>\n",
       "      <td>Yes</td>\n",
       "      <td>An experienced researcher to guide, advise and...</td>\n",
       "      <td>...</td>\n",
       "      <td>NaN</td>\n",
       "      <td>NaN</td>\n",
       "      <td>NaN</td>\n",
       "      <td>NaN</td>\n",
       "      <td>NaN</td>\n",
       "      <td>NaN</td>\n",
       "      <td>NaN</td>\n",
       "      <td>NaN</td>\n",
       "      <td>NaN</td>\n",
       "      <td>NaN</td>\n",
       "    </tr>\n",
       "  </tbody>\n",
       "</table>\n",
       "<p>5 rows × 189 columns</p>\n",
       "</div>"
      ],
      "text/plain": [
       "                      Timestamp  \\\n",
       "0   2021/02/14 8:16:29 am GMT-5   \n",
       "1   2021/02/23 8:14:03 am GMT-5   \n",
       "2   2021/03/05 1:09:55 pm GMT-5   \n",
       "3   2021/03/06 2:07:21 pm GMT-5   \n",
       "4  2021/03/14 12:10:53 pm GMT-5   \n",
       "\n",
       "  To be taken to the next page please tick both boxes below. Age group:  \\\n",
       "0  I consent to my responses being used for the p...              36-40   \n",
       "1  I consent to my responses being used for the p...              26-30   \n",
       "2  I consent to my responses being used for the p...              36-40   \n",
       "3  I consent to my responses being used for the p...              26-30   \n",
       "4  I consent to my responses being used for the p...                41+   \n",
       "\n",
       "  Gender: Which year of Ph.D. are you in?  \\\n",
       "0  Female                       Graduated   \n",
       "1  Female                             2nd   \n",
       "2  Female                       Graduated   \n",
       "3    Male                       Graduated   \n",
       "4  Female                            5th+   \n",
       "\n",
       "  Are you doing/did you do your Ph.D. in your native language?   \\\n",
       "0                                                 No              \n",
       "1                                                Yes              \n",
       "2                                                 No              \n",
       "3                                                 No              \n",
       "4                                                Yes              \n",
       "\n",
       "  Are you doing/did you do your Ph.D. in your native country?   \\\n",
       "0                                                 No             \n",
       "1                                                Yes             \n",
       "2                                                 No             \n",
       "3                                                 No             \n",
       "4                                                Yes             \n",
       "\n",
       "  How many supervisors/advisors do/did you have?   \\\n",
       "0                                               3   \n",
       "1                                               1   \n",
       "2                                               3   \n",
       "3                                               2   \n",
       "4                                            More   \n",
       "\n",
       "   Is/was one of them the primary/lead supervisor/advisor?   \\\n",
       "0                                                Yes          \n",
       "1                                                Yes          \n",
       "2                                                Yes          \n",
       "3                                                Yes          \n",
       "4                                                Yes          \n",
       "\n",
       "  Could you give a definition of the supervisor/advisor?  ... Unnamed: 179  \\\n",
       "0  -a supporter\\n-an academic advisor - someone w...      ...          9.0   \n",
       "1  someone who gives you leadership and the freed...      ...          NaN   \n",
       "2  critically evaluate your work\\nhelp in job opp...      ...          NaN   \n",
       "3  Someone who\\nfollows my research\\nsuggests for...      ...          NaN   \n",
       "4  An experienced researcher to guide, advise and...      ...          NaN   \n",
       "\n",
       "  Unnamed: 180 Unnamed: 181 Unnamed: 182 Unnamed: 183 Unnamed: 184  \\\n",
       "0          4.0          9.0          9.0          0.0          6.0   \n",
       "1          NaN          NaN          NaN          NaN          NaN   \n",
       "2          NaN          NaN          NaN          NaN          NaN   \n",
       "3          NaN          NaN          NaN          NaN          NaN   \n",
       "4          NaN          NaN          NaN          NaN          NaN   \n",
       "\n",
       "  Unnamed: 185 Unnamed: 186 Unnamed: 187 Unnamed: 188  \n",
       "0         10.0          2.0          0.0         10.0  \n",
       "1          NaN          NaN          NaN          NaN  \n",
       "2          NaN          NaN          NaN          NaN  \n",
       "3          NaN          NaN          NaN          NaN  \n",
       "4          NaN          NaN          NaN          NaN  \n",
       "\n",
       "[5 rows x 189 columns]"
      ]
     },
     "execution_count": 3,
     "metadata": {},
     "output_type": "execute_result"
    }
   ],
   "source": [
    "# Print first five rows of the dataframe\n",
    "df.head()"
   ]
  },
  {
   "cell_type": "code",
   "execution_count": 4,
   "metadata": {},
   "outputs": [],
   "source": [
    "#df.values"
   ]
  },
  {
   "cell_type": "code",
   "execution_count": 40,
   "metadata": {},
   "outputs": [
    {
     "name": "stdout",
     "output_type": "stream",
     "text": [
      "Academic Support [Teaching opportunities]\n",
      "Academic Support [Teaching opportunities].1\n",
      "Academic Support [Teaching opportunities].2\n",
      "Academic Support [Ehtics form guidance]\n"
     ]
    }
   ],
   "source": [
    "#Dummy to see the columns\n",
    "head=df.columns\n",
    "print(head[32])\n",
    "print(head[60])\n",
    "print(head[88])\n",
    "print(head[120])"
   ]
  },
  {
   "cell_type": "markdown",
   "metadata": {},
   "source": [
    "### Demographic data\n",
    "\n",
    "This is only shows information related to demographics from interviewees."
   ]
  },
  {
   "cell_type": "code",
   "execution_count": 6,
   "metadata": {},
   "outputs": [
    {
     "data": {
      "text/html": [
       "<div>\n",
       "<style scoped>\n",
       "    .dataframe tbody tr th:only-of-type {\n",
       "        vertical-align: middle;\n",
       "    }\n",
       "\n",
       "    .dataframe tbody tr th {\n",
       "        vertical-align: top;\n",
       "    }\n",
       "\n",
       "    .dataframe thead th {\n",
       "        text-align: right;\n",
       "    }\n",
       "</style>\n",
       "<table border=\"1\" class=\"dataframe\">\n",
       "  <thead>\n",
       "    <tr style=\"text-align: right;\">\n",
       "      <th></th>\n",
       "      <th>Age group:</th>\n",
       "      <th>Gender:</th>\n",
       "      <th>Which year of Ph.D. are you in?</th>\n",
       "      <th>Are you doing/did you do your Ph.D. in your native language?</th>\n",
       "      <th>Are you doing/did you do your Ph.D. in your native country?</th>\n",
       "      <th>How many supervisors/advisors do/did you have?</th>\n",
       "    </tr>\n",
       "  </thead>\n",
       "  <tbody>\n",
       "    <tr>\n",
       "      <th>0</th>\n",
       "      <td>36-40</td>\n",
       "      <td>Female</td>\n",
       "      <td>Graduated</td>\n",
       "      <td>No</td>\n",
       "      <td>No</td>\n",
       "      <td>3</td>\n",
       "    </tr>\n",
       "    <tr>\n",
       "      <th>1</th>\n",
       "      <td>26-30</td>\n",
       "      <td>Female</td>\n",
       "      <td>2nd</td>\n",
       "      <td>Yes</td>\n",
       "      <td>Yes</td>\n",
       "      <td>1</td>\n",
       "    </tr>\n",
       "    <tr>\n",
       "      <th>2</th>\n",
       "      <td>36-40</td>\n",
       "      <td>Female</td>\n",
       "      <td>Graduated</td>\n",
       "      <td>No</td>\n",
       "      <td>No</td>\n",
       "      <td>3</td>\n",
       "    </tr>\n",
       "    <tr>\n",
       "      <th>3</th>\n",
       "      <td>26-30</td>\n",
       "      <td>Male</td>\n",
       "      <td>Graduated</td>\n",
       "      <td>No</td>\n",
       "      <td>No</td>\n",
       "      <td>2</td>\n",
       "    </tr>\n",
       "    <tr>\n",
       "      <th>4</th>\n",
       "      <td>41+</td>\n",
       "      <td>Female</td>\n",
       "      <td>5th+</td>\n",
       "      <td>Yes</td>\n",
       "      <td>Yes</td>\n",
       "      <td>More</td>\n",
       "    </tr>\n",
       "    <tr>\n",
       "      <th>5</th>\n",
       "      <td>41+</td>\n",
       "      <td>Male</td>\n",
       "      <td>Graduated</td>\n",
       "      <td>No</td>\n",
       "      <td>No</td>\n",
       "      <td>2</td>\n",
       "    </tr>\n",
       "    <tr>\n",
       "      <th>6</th>\n",
       "      <td>31-35</td>\n",
       "      <td>Female</td>\n",
       "      <td>3rd</td>\n",
       "      <td>No</td>\n",
       "      <td>No</td>\n",
       "      <td>1</td>\n",
       "    </tr>\n",
       "  </tbody>\n",
       "</table>\n",
       "</div>"
      ],
      "text/plain": [
       "  Age group: Gender: Which year of Ph.D. are you in?  \\\n",
       "0      36-40  Female                       Graduated   \n",
       "1      26-30  Female                             2nd   \n",
       "2      36-40  Female                       Graduated   \n",
       "3      26-30    Male                       Graduated   \n",
       "4        41+  Female                            5th+   \n",
       "5        41+    Male                       Graduated   \n",
       "6      31-35  Female                             3rd   \n",
       "\n",
       "  Are you doing/did you do your Ph.D. in your native language?   \\\n",
       "0                                                 No              \n",
       "1                                                Yes              \n",
       "2                                                 No              \n",
       "3                                                 No              \n",
       "4                                                Yes              \n",
       "5                                                 No              \n",
       "6                                                 No              \n",
       "\n",
       "  Are you doing/did you do your Ph.D. in your native country?   \\\n",
       "0                                                 No             \n",
       "1                                                Yes             \n",
       "2                                                 No             \n",
       "3                                                 No             \n",
       "4                                                Yes             \n",
       "5                                                 No             \n",
       "6                                                 No             \n",
       "\n",
       "  How many supervisors/advisors do/did you have?   \n",
       "0                                               3  \n",
       "1                                               1  \n",
       "2                                               3  \n",
       "3                                               2  \n",
       "4                                            More  \n",
       "5                                               2  \n",
       "6                                               1  "
      ]
     },
     "execution_count": 6,
     "metadata": {},
     "output_type": "execute_result"
    }
   ],
   "source": [
    "demographic_data=df[['Age group:', 'Gender:', 'Which year of Ph.D. are you in?',\n",
    "       'Are you doing/did you do your Ph.D. in your native language? ',\n",
    "       'Are you doing/did you do your Ph.D. in your native country? ',\n",
    "       'How many supervisors/advisors do/did you have? ']]\n",
    "demographic_data"
   ]
  },
  {
   "cell_type": "markdown",
   "metadata": {},
   "source": [
    "#### Age"
   ]
  },
  {
   "cell_type": "code",
   "execution_count": 7,
   "metadata": {},
   "outputs": [
    {
     "data": {
      "text/plain": [
       "<AxesSubplot:ylabel='Age group:'>"
      ]
     },
     "execution_count": 7,
     "metadata": {},
     "output_type": "execute_result"
    },
    {
     "data": {
      "image/png": "[encoded data removed]",
      "text/plain": [
       "<Figure size 432x288 with 1 Axes>"
      ]
     },
     "metadata": {},
     "output_type": "display_data"
    }
   ],
   "source": [
    "age = demographic_data.groupby('Age group:')['Age group:'].count()\n",
    "#print(age)\n",
    "age.plot.pie()"
   ]
  },
  {
   "cell_type": "markdown",
   "metadata": {},
   "source": [
    "#### Gender"
   ]
  },
  {
   "cell_type": "code",
   "execution_count": 8,
   "metadata": {},
   "outputs": [
    {
     "data": {
      "text/plain": [
       "<AxesSubplot:ylabel='Gender:'>"
      ]
     },
     "execution_count": 8,
     "metadata": {},
     "output_type": "execute_result"
    },
    {
     "data": {
      "image/png": "[encoded data removed]",
      "text/plain": [
       "<Figure size 432x288 with 1 Axes>"
      ]
     },
     "metadata": {},
     "output_type": "display_data"
    }
   ],
   "source": [
    "age = demographic_data.groupby('Gender:')['Gender:'].count()\n",
    "#print(age)\n",
    "age.plot.pie()"
   ]
  },
  {
   "cell_type": "markdown",
   "metadata": {},
   "source": [
    "#### Year of Ph.D."
   ]
  },
  {
   "cell_type": "code",
   "execution_count": 9,
   "metadata": {},
   "outputs": [
    {
     "data": {
      "text/plain": [
       "<AxesSubplot:ylabel='Which year of Ph.D. are you in?'>"
      ]
     },
     "execution_count": 9,
     "metadata": {},
     "output_type": "execute_result"
    },
    {
     "data": {
      "image/png": "[encoded data removed]",
      "text/plain": [
       "<Figure size 432x288 with 1 Axes>"
      ]
     },
     "metadata": {},
     "output_type": "display_data"
    }
   ],
   "source": [
    "age = demographic_data.groupby('Which year of Ph.D. are you in?')['Which year of Ph.D. are you in?'].count()\n",
    "#print(age)\n",
    "age.plot.pie()"
   ]
  },
  {
   "cell_type": "markdown",
   "metadata": {},
   "source": [
    "#### People doing a Ph.D. in their native language"
   ]
  },
  {
   "cell_type": "code",
   "execution_count": 10,
   "metadata": {},
   "outputs": [
    {
     "data": {
      "text/plain": [
       "<AxesSubplot:ylabel='Are you doing/did you do your Ph.D. in your native language? '>"
      ]
     },
     "execution_count": 10,
     "metadata": {},
     "output_type": "execute_result"
    },
    {
     "data": {
      "image/png": "[encoded data removed]",
      "text/plain": [
       "<Figure size 432x288 with 1 Axes>"
      ]
     },
     "metadata": {},
     "output_type": "display_data"
    }
   ],
   "source": [
    "age = demographic_data.groupby('Are you doing/did you do your Ph.D. in your native language? ')['Are you doing/did you do your Ph.D. in your native language? '].count()\n",
    "#print(age)\n",
    "age.plot.pie()"
   ]
  },
  {
   "cell_type": "markdown",
   "metadata": {},
   "source": [
    "#### Number of supervisors"
   ]
  },
  {
   "cell_type": "code",
   "execution_count": 11,
   "metadata": {},
   "outputs": [
    {
     "data": {
      "text/plain": [
       "<AxesSubplot:ylabel='How many supervisors/advisors do/did you have? '>"
      ]
     },
     "execution_count": 11,
     "metadata": {},
     "output_type": "execute_result"
    },
    {
     "data": {
      "image/png": "[encoded data removed]",
      "text/plain": [
       "<Figure size 432x288 with 1 Axes>"
      ]
     },
     "metadata": {},
     "output_type": "display_data"
    }
   ],
   "source": [
    "age = demographic_data.groupby('How many supervisors/advisors do/did you have? ')['How many supervisors/advisors do/did you have? '].count()\n",
    "#print(age)\n",
    "age.plot.pie()"
   ]
  },
  {
   "cell_type": "markdown",
   "metadata": {},
   "source": [
    "### Rewiews"
   ]
  },
  {
   "cell_type": "markdown",
   "metadata": {},
   "source": [
    "#### Supervisor's name"
   ]
  },
  {
   "cell_type": "code",
   "execution_count": 14,
   "metadata": {
    "scrolled": true
   },
   "outputs": [
    {
     "name": "stdout",
     "output_type": "stream",
     "text": [
      "                       Name of Main Supervisor (1): \n",
      "0  Not comfortable giving names (Lead supervisor ...\n",
      "1                                     Juliane filser\n",
      "2                                    Natasha Ravioli\n",
      "3                                   Dimitris Tziovas\n",
      "4                                         June Jones\n",
      "5                                                 TS\n",
      "6                                                 XX\n",
      "0        Academic Supervisor Team 2\n",
      "2                    Anissa Dawoodi\n",
      "4                       Ben Kotzee \n",
      "0    Practice Supervisor (Team 1&2)\n",
      "2                    Hanem Farahaty\n",
      "4                       Ian Davison\n",
      "4            Kristjan Kristjansson \n",
      "dtype: object\n"
     ]
    }
   ],
   "source": [
    "supervisor_name_m = df[['Name of Main Supervisor (1): ']]\n",
    "supervisor_name_s = pd.concat([df['Name of Supervisor (2)'],df['Name of Supervisor (3): '],df['Name of Supervisor (4): ']])\n",
    "supervisor_name_s = supervisor_name_s.dropna()\n",
    "print(supervisor_name_m)\n",
    "print(supervisor_name_s)"
   ]
  },
  {
   "cell_type": "markdown",
   "metadata": {},
   "source": [
    "#### Reviews for Academic Support\n",
    "\n",
    "Knowledge of the field (literature), the variable name in this case is `as_literature`."
   ]
  },
  {
   "cell_type": "code",
   "execution_count": 15,
   "metadata": {},
   "outputs": [
    {
     "data": {
      "text/html": [
       "<div>\n",
       "<style scoped>\n",
       "    .dataframe tbody tr th:only-of-type {\n",
       "        vertical-align: middle;\n",
       "    }\n",
       "\n",
       "    .dataframe tbody tr th {\n",
       "        vertical-align: top;\n",
       "    }\n",
       "\n",
       "    .dataframe thead th {\n",
       "        text-align: right;\n",
       "    }\n",
       "</style>\n",
       "<table border=\"1\" class=\"dataframe\">\n",
       "  <thead>\n",
       "    <tr style=\"text-align: right;\">\n",
       "      <th></th>\n",
       "      <th>Academic Support [Knowledge of the field (literature)]</th>\n",
       "      <th>Academic Support [Knowledge of the field (literature)].1</th>\n",
       "      <th>Academic Support [Knowledge of the field (literature)].2</th>\n",
       "      <th>Academic Support [Knowledge of the field (literature)].3</th>\n",
       "    </tr>\n",
       "  </thead>\n",
       "  <tbody>\n",
       "    <tr>\n",
       "      <th>0</th>\n",
       "      <td>8</td>\n",
       "      <td>NaN</td>\n",
       "      <td>NaN</td>\n",
       "      <td>NaN</td>\n",
       "    </tr>\n",
       "    <tr>\n",
       "      <th>1</th>\n",
       "      <td>9</td>\n",
       "      <td>NaN</td>\n",
       "      <td>NaN</td>\n",
       "      <td>NaN</td>\n",
       "    </tr>\n",
       "    <tr>\n",
       "      <th>2</th>\n",
       "      <td>9</td>\n",
       "      <td>3.0</td>\n",
       "      <td>9.0</td>\n",
       "      <td>NaN</td>\n",
       "    </tr>\n",
       "    <tr>\n",
       "      <th>3</th>\n",
       "      <td>2</td>\n",
       "      <td>NaN</td>\n",
       "      <td>NaN</td>\n",
       "      <td>NaN</td>\n",
       "    </tr>\n",
       "    <tr>\n",
       "      <th>4</th>\n",
       "      <td>8</td>\n",
       "      <td>7.0</td>\n",
       "      <td>2.0</td>\n",
       "      <td>7.0</td>\n",
       "    </tr>\n",
       "    <tr>\n",
       "      <th>5</th>\n",
       "      <td>6</td>\n",
       "      <td>NaN</td>\n",
       "      <td>NaN</td>\n",
       "      <td>NaN</td>\n",
       "    </tr>\n",
       "    <tr>\n",
       "      <th>6</th>\n",
       "      <td>5</td>\n",
       "      <td>NaN</td>\n",
       "      <td>NaN</td>\n",
       "      <td>NaN</td>\n",
       "    </tr>\n",
       "  </tbody>\n",
       "</table>\n",
       "</div>"
      ],
      "text/plain": [
       "   Academic Support [Knowledge of the field (literature)]  \\\n",
       "0                                                  8        \n",
       "1                                                  9        \n",
       "2                                                  9        \n",
       "3                                                  2        \n",
       "4                                                  8        \n",
       "5                                                  6        \n",
       "6                                                  5        \n",
       "\n",
       "   Academic Support [Knowledge of the field (literature)].1  \\\n",
       "0                                                NaN          \n",
       "1                                                NaN          \n",
       "2                                                3.0          \n",
       "3                                                NaN          \n",
       "4                                                7.0          \n",
       "5                                                NaN          \n",
       "6                                                NaN          \n",
       "\n",
       "   Academic Support [Knowledge of the field (literature)].2  \\\n",
       "0                                                NaN          \n",
       "1                                                NaN          \n",
       "2                                                9.0          \n",
       "3                                                NaN          \n",
       "4                                                2.0          \n",
       "5                                                NaN          \n",
       "6                                                NaN          \n",
       "\n",
       "   Academic Support [Knowledge of the field (literature)].3  \n",
       "0                                                NaN         \n",
       "1                                                NaN         \n",
       "2                                                NaN         \n",
       "3                                                NaN         \n",
       "4                                                7.0         \n",
       "5                                                NaN         \n",
       "6                                                NaN         "
      ]
     },
     "execution_count": 15,
     "metadata": {},
     "output_type": "execute_result"
    }
   ],
   "source": [
    "df[['Academic Support [Knowledge of the field (literature)]','Academic Support [Knowledge of the field (literature)].1',\n",
    "'Academic Support [Knowledge of the field (literature)].2','Academic Support [Knowledge of the field (literature)].3']]"
   ]
  },
  {
   "cell_type": "markdown",
   "metadata": {},
   "source": [
    "The analysis of the main supervisor appears for each question, but the secondary supervisors are concatenated into one column."
   ]
  },
  {
   "cell_type": "markdown",
   "metadata": {},
   "source": [
    "##### Question 1"
   ]
  },
  {
   "cell_type": "code",
   "execution_count": 16,
   "metadata": {},
   "outputs": [
    {
     "name": "stdout",
     "output_type": "stream",
     "text": [
      "0    8\n",
      "1    9\n",
      "2    9\n",
      "3    2\n",
      "4    8\n",
      "5    6\n",
      "6    5\n",
      "Name: Academic Support [Knowledge of the field (literature)], dtype: int64\n",
      "2    3.0\n",
      "4    7.0\n",
      "2    9.0\n",
      "4    2.0\n",
      "4    7.0\n",
      "Name: Academic Support [Knowledge of the field (literature)], dtype: float64\n"
     ]
    }
   ],
   "source": [
    "#Question 1\n",
    "as_literature_m = df['Academic Support [Knowledge of the field (literature)]']\n",
    "as_literature_s = pd.concat([df['Academic Support [Knowledge of the field (literature)].1'].rename('Academic Support [Knowledge of the field (literature)]'),\n",
    "                             df['Academic Support [Knowledge of the field (literature)].2'].rename('Academic Support [Knowledge of the field (literature)]'),\n",
    "                             df['Academic Support [Knowledge of the field (literature)].3'].rename('Academic Support [Knowledge of the field (literature)]')])\n",
    "as_literature_s = as_literature_s.dropna()\n",
    "print(as_literature_m)\n",
    "print(as_literature_s)"
   ]
  },
  {
   "cell_type": "markdown",
   "metadata": {},
   "source": [
    "For main supervisor"
   ]
  },
  {
   "cell_type": "code",
   "execution_count": 17,
   "metadata": {},
   "outputs": [
    {
     "data": {
      "text/plain": [
       "<AxesSubplot:ylabel='Frequency'>"
      ]
     },
     "execution_count": 17,
     "metadata": {},
     "output_type": "execute_result"
    },
    {
     "data": {
      "image/png": "[encoded data removed]",
      "text/plain": [
       "<Figure size 432x288 with 1 Axes>"
      ]
     },
     "metadata": {
      "needs_background": "light"
     },
     "output_type": "display_data"
    }
   ],
   "source": [
    "as_literature_m.plot.hist()"
   ]
  },
  {
   "cell_type": "code",
   "execution_count": 18,
   "metadata": {},
   "outputs": [
    {
     "data": {
      "text/plain": [
       "<AxesSubplot:ylabel='Frequency'>"
      ]
     },
     "execution_count": 18,
     "metadata": {},
     "output_type": "execute_result"
    },
    {
     "data": {
      "image/png": "[encoded data removed]",
      "text/plain": [
       "<Figure size 432x288 with 1 Axes>"
      ]
     },
     "metadata": {
      "needs_background": "light"
     },
     "output_type": "display_data"
    }
   ],
   "source": [
    "as_literature_s.plot.hist()"
   ]
  },
  {
   "cell_type": "markdown",
   "metadata": {},
   "source": [
    "Question 2."
   ]
  },
  {
   "cell_type": "code",
   "execution_count": 19,
   "metadata": {},
   "outputs": [
    {
     "name": "stdout",
     "output_type": "stream",
     "text": [
      "1    7.0\n",
      "2    1.0\n",
      "3    7.0\n",
      "4    7.0\n",
      "5    6.0\n",
      "6    7.0\n",
      "Name: Academic Support [Conference participation encouragement], dtype: float64\n",
      "2    8.0\n",
      "4    6.0\n",
      "2    9.0\n",
      "4    3.0\n",
      "4    7.0\n",
      "Name: Academic Support [Conference participation encouragement], dtype: float64\n"
     ]
    }
   ],
   "source": [
    "#Question 2 [31,59,87,115]\n",
    "as_encouragement_m = df['Academic Support [Conference participation encouragement]']\n",
    "as_encouragement_m = as_encouragement_m.dropna()\n",
    "as_encouragement_s = pd.concat([df['Academic Support [Conference participation encouragement].1'].rename('Academic Support [Conference participation encouragement]'),\n",
    "                                df['Academic Support [Conference participation encouragement].2'].rename('Academic Support [Conference participation encouragement]'),\n",
    "                                df['Academic Support [Conference participation encouragement].3'].rename('Academic Support [Conference participation encouragement]')])\n",
    "as_encouragement_s = as_encouragement_s.dropna()\n",
    "print(as_encouragement_m)\n",
    "print(as_encouragement_s)"
   ]
  },
  {
   "cell_type": "code",
   "execution_count": 20,
   "metadata": {},
   "outputs": [
    {
     "data": {
      "text/plain": [
       "<AxesSubplot:ylabel='Frequency'>"
      ]
     },
     "execution_count": 20,
     "metadata": {},
     "output_type": "execute_result"
    },
    {
     "data": {
      "image/png": "[encoded data removed]",
      "text/plain": [
       "<Figure size 432x288 with 1 Axes>"
      ]
     },
     "metadata": {
      "needs_background": "light"
     },
     "output_type": "display_data"
    }
   ],
   "source": [
    "as_encouragement_m.plot.hist()"
   ]
  },
  {
   "cell_type": "code",
   "execution_count": 21,
   "metadata": {},
   "outputs": [
    {
     "data": {
      "text/plain": [
       "<AxesSubplot:ylabel='Frequency'>"
      ]
     },
     "execution_count": 21,
     "metadata": {},
     "output_type": "execute_result"
    },
    {
     "data": {
      "image/png": "[encoded data removed]",
      "text/plain": [
       "<Figure size 432x288 with 1 Axes>"
      ]
     },
     "metadata": {
      "needs_background": "light"
     },
     "output_type": "display_data"
    }
   ],
   "source": [
    "as_encouragement_s.plot.hist()"
   ]
  },
  {
   "cell_type": "markdown",
   "metadata": {},
   "source": [
    "Question 3:"
   ]
  },
  {
   "cell_type": "code",
   "execution_count": 22,
   "metadata": {},
   "outputs": [
    {
     "name": "stdout",
     "output_type": "stream",
     "text": [
      "1    6.0\n",
      "2    1.0\n",
      "3    5.0\n",
      "4    0.0\n",
      "5    1.0\n",
      "6    9.0\n",
      "Name: Academic Support [Teaching opportunities], dtype: float64\n",
      "2    8.0\n",
      "4    0.0\n",
      "2    0.0\n",
      "4    0.0\n",
      "4    0.0\n",
      "Name: Academic Support [Teaching opportunities], dtype: float64\n"
     ]
    }
   ],
   "source": [
    "#Question 3 [32,60,88,116]\n",
    "as_teaching_m = df['Academic Support [Teaching opportunities]']\n",
    "as_teaching_m = as_teaching_m.dropna()\n",
    "as_teaching_s = pd.concat([df['Academic Support [Teaching opportunities].1'].rename('Academic Support [Teaching opportunities]'),\n",
    "                           df['Academic Support [Teaching opportunities].2'].rename('Academic Support [Teaching opportunities]'),\n",
    "                           df['Academic Support [Teaching opportunities].3'].rename('Academic Support [Teaching opportunities]')])\n",
    "as_teaching_s = as_teaching_s.dropna()\n",
    "print(as_teaching_m)\n",
    "print(as_teaching_s)"
   ]
  },
  {
   "cell_type": "code",
   "execution_count": 24,
   "metadata": {},
   "outputs": [
    {
     "data": {
      "text/plain": [
       "<AxesSubplot:ylabel='Frequency'>"
      ]
     },
     "execution_count": 24,
     "metadata": {},
     "output_type": "execute_result"
    },
    {
     "data": {
      "image/png": "[encoded data removed]",
      "text/plain": [
       "<Figure size 432x288 with 1 Axes>"
      ]
     },
     "metadata": {
      "needs_background": "light"
     },
     "output_type": "display_data"
    }
   ],
   "source": [
    "as_teaching_m.plot.hist()"
   ]
  },
  {
   "cell_type": "code",
   "execution_count": 25,
   "metadata": {},
   "outputs": [
    {
     "data": {
      "text/plain": [
       "<AxesSubplot:ylabel='Frequency'>"
      ]
     },
     "execution_count": 25,
     "metadata": {},
     "output_type": "execute_result"
    },
    {
     "data": {
      "image/png": "[encoded data removed]",
      "text/plain": [
       "<Figure size 432x288 with 1 Axes>"
      ]
     },
     "metadata": {
      "needs_background": "light"
     },
     "output_type": "display_data"
    }
   ],
   "source": [
    "as_teaching_s.plot.hist()"
   ]
  },
  {
   "cell_type": "markdown",
   "metadata": {},
   "source": [
    "Question 4:"
   ]
  },
  {
   "cell_type": "code",
   "execution_count": 28,
   "metadata": {},
   "outputs": [
    {
     "name": "stdout",
     "output_type": "stream",
     "text": [
      "1    1.0\n",
      "2    1.0\n",
      "3    2.0\n",
      "4    8.0\n",
      "5    9.0\n",
      "6    2.0\n",
      "Name: Academic Support [Thesis writing/guidance], dtype: float64\n",
      "2    0.0\n",
      "4    5.0\n",
      "2    9.0\n",
      "4    7.0\n",
      "4    7.0\n",
      "Name: Academic Support [Thesis writing/guidance], dtype: float64\n"
     ]
    }
   ],
   "source": [
    "#Question 4 [33,61,89,117]\n",
    "as_guidance_m = df['Academic Support [Thesis writing/guidance]']\n",
    "as_guidance_m = as_guidance_m.dropna()\n",
    "as_guidance_s = pd.concat([df['Academic Support [Thesis writing/guidance].1'].rename('Academic Support [Thesis writing/guidance]'),\n",
    "                           df['Academic Support [Thesis writing/guidance].2'].rename('Academic Support [Thesis writing/guidance]'),\n",
    "                           df['Academic Support [Thesis writing/guidance].3'].rename('Academic Support [Thesis writing/guidance]')])\n",
    "as_guidance_s = as_guidance_s.dropna()\n",
    "print(as_guidance_m)\n",
    "print(as_guidance_s)"
   ]
  },
  {
   "cell_type": "code",
   "execution_count": 30,
   "metadata": {},
   "outputs": [
    {
     "data": {
      "text/plain": [
       "<AxesSubplot:ylabel='Frequency'>"
      ]
     },
     "execution_count": 30,
     "metadata": {},
     "output_type": "execute_result"
    },
    {
     "data": {
      "image/png": "[encoded data removed]",
      "text/plain": [
       "<Figure size 432x288 with 1 Axes>"
      ]
     },
     "metadata": {
      "needs_background": "light"
     },
     "output_type": "display_data"
    }
   ],
   "source": [
    "as_guidance_m.plot.hist()"
   ]
  },
  {
   "cell_type": "code",
   "execution_count": 31,
   "metadata": {},
   "outputs": [
    {
     "data": {
      "text/plain": [
       "<AxesSubplot:ylabel='Frequency'>"
      ]
     },
     "execution_count": 31,
     "metadata": {},
     "output_type": "execute_result"
    },
    {
     "data": {
      "image/png": "[encoded data removed]",
      "text/plain": [
       "<Figure size 432x288 with 1 Axes>"
      ]
     },
     "metadata": {
      "needs_background": "light"
     },
     "output_type": "display_data"
    }
   ],
   "source": [
    "as_guidance_s.plot.hist()"
   ]
  },
  {
   "cell_type": "code",
   "execution_count": 33,
   "metadata": {},
   "outputs": [
    {
     "name": "stdout",
     "output_type": "stream",
     "text": [
      "1    5.0\n",
      "2    3.0\n",
      "3    1.0\n",
      "4    8.0\n",
      "5    9.0\n",
      "6    2.0\n",
      "Name: Academic Support [Methodology guidance/sources], dtype: float64\n",
      "1    5.0\n",
      "2    3.0\n",
      "3    1.0\n",
      "4    8.0\n",
      "5    9.0\n",
      "6    2.0\n",
      "Name: Academic Support [Methodology guidance/sources], dtype: float64\n"
     ]
    }
   ],
   "source": [
    "#Question 5 [34,62,90,118]\n",
    "as_sources_m = df['Academic Support [Methodology guidance/sources]']\n",
    "as_sources_m = as_sources_m.dropna()\n",
    "as_sources_s = pd.concat([df['Academic Support [Methodology guidance/sources].1'].rename('Academic Support [Methodology guidance/sources]'),\n",
    "                          df['Academic Support [Methodology guidance/sources].2'].rename('Academic Support [Methodology guidance/sources]'),\n",
    "                          df['Academic Support [Methodology guidance/sources].3'].rename('Academic Support [Methodology guidance/sources]')])\n",
    "as_sources_s = as_sources_m.dropna()\n",
    "print(as_sources_m)\n",
    "print(as_sources_s)"
   ]
  },
  {
   "cell_type": "code",
   "execution_count": 34,
   "metadata": {},
   "outputs": [
    {
     "data": {
      "text/plain": [
       "<AxesSubplot:ylabel='Frequency'>"
      ]
     },
     "execution_count": 34,
     "metadata": {},
     "output_type": "execute_result"
    },
    {
     "data": {
      "image/png": "[encoded data removed]",
      "text/plain": [
       "<Figure size 432x288 with 1 Axes>"
      ]
     },
     "metadata": {
      "needs_background": "light"
     },
     "output_type": "display_data"
    }
   ],
   "source": [
    "as_sources_m.plot.hist()"
   ]
  },
  {
   "cell_type": "code",
   "execution_count": 35,
   "metadata": {},
   "outputs": [
    {
     "data": {
      "text/plain": [
       "<AxesSubplot:ylabel='Frequency'>"
      ]
     },
     "execution_count": 35,
     "metadata": {},
     "output_type": "execute_result"
    },
    {
     "data": {
      "image/png": "[encoded data removed]",
      "text/plain": [
       "<Figure size 432x288 with 1 Axes>"
      ]
     },
     "metadata": {
      "needs_background": "light"
     },
     "output_type": "display_data"
    }
   ],
   "source": [
    "as_sources_s.plot.hist()"
   ]
  },
  {
   "cell_type": "code",
   "execution_count": 37,
   "metadata": {},
   "outputs": [
    {
     "name": "stdout",
     "output_type": "stream",
     "text": [
      "1    2.0\n",
      "2    1.0\n",
      "3    7.0\n",
      "4    7.0\n",
      "5    0.0\n",
      "6    7.0\n",
      "Name: Academic Support [Support for publications (named author)], dtype: float64\n",
      "2    9.0\n",
      "4    0.0\n",
      "2    9.0\n",
      "4    0.0\n",
      "4    5.0\n",
      "Name: Academic Support [Support for publications (named author)], dtype: float64\n"
     ]
    }
   ],
   "source": [
    "#Question 6 [35,63,91,119]\n",
    "as_publication_m = df['Academic Support [Support for publications (named author)]']\n",
    "as_publication_m = as_publication_m.dropna()\n",
    "as_publication_s = pd.concat([df['Academic Support [Support for publications (named author)].1'].rename('Academic Support [Support for publications (named author)]'),\n",
    "                              df['Academic Support [Support for publications (named author)].2'].rename('Academic Support [Support for publications (named author)]'),\n",
    "                              df['Academic Support [Support for publications (named author)].3'].rename('Academic Support [Support for publications (named author)]')])\n",
    "as_publication_s = as_publication_s.dropna()\n",
    "print(as_publication_m)\n",
    "print(as_publication_s)"
   ]
  },
  {
   "cell_type": "code",
   "execution_count": 38,
   "metadata": {},
   "outputs": [
    {
     "data": {
      "text/plain": [
       "<AxesSubplot:ylabel='Frequency'>"
      ]
     },
     "execution_count": 38,
     "metadata": {},
     "output_type": "execute_result"
    },
    {
     "data": {
      "image/png": "[encoded data removed]",
      "text/plain": [
       "<Figure size 432x288 with 1 Axes>"
      ]
     },
     "metadata": {
      "needs_background": "light"
     },
     "output_type": "display_data"
    }
   ],
   "source": [
    "as_publication_m.plot.hist()"
   ]
  },
  {
   "cell_type": "code",
   "execution_count": 39,
   "metadata": {},
   "outputs": [
    {
     "data": {
      "text/plain": [
       "<AxesSubplot:ylabel='Frequency'>"
      ]
     },
     "execution_count": 39,
     "metadata": {},
     "output_type": "execute_result"
    },
    {
     "data": {
      "image/png": "[encoded data removed]",
      "text/plain": [
       "<Figure size 432x288 with 1 Axes>"
      ]
     },
     "metadata": {
      "needs_background": "light"
     },
     "output_type": "display_data"
    }
   ],
   "source": [
    "as_publication_s.plot.hist()"
   ]
  },
  {
   "cell_type": "code",
   "execution_count": 41,
   "metadata": {},
   "outputs": [
    {
     "name": "stdout",
     "output_type": "stream",
     "text": [
      "1    0.0\n",
      "2    2.0\n",
      "3    0.0\n",
      "4    8.0\n",
      "5    8.0\n",
      "6    0.0\n",
      "Name: Academic Support [Ethics form guidance], dtype: float64\n",
      "2    5.0\n",
      "4    0.0\n",
      "2    0.0\n",
      "4    7.0\n",
      "4    0.0\n",
      "Name: Academic Support [Ethics form guidance], dtype: float64\n"
     ]
    }
   ],
   "source": [
    "#Question 7 [36,64,92,120]\n",
    "as_ethics_m = df['Academic Support [Ethics form guidance]']\n",
    "as_ethics_m = as_ethics_m.dropna()\n",
    "as_ethics_s = pd.concat([df['Academic Support [Ethics form guidance].1'].rename('Academic Support [Ethics form guidance]'),\n",
    "                         df['Academic Support [Ethics form guidance].2'].rename('Academic Support [Ethics form guidance]'),\n",
    "                         df['Academic Support [Ehtics form guidance]'].rename('Academic Support [Ethics form guidance]')])\n",
    "as_ethics_s = as_ethics_s.dropna()\n",
    "print(as_ethics_m)\n",
    "print(as_ethics_s)"
   ]
  },
  {
   "cell_type": "code",
   "execution_count": 42,
   "metadata": {},
   "outputs": [
    {
     "data": {
      "text/plain": [
       "<AxesSubplot:ylabel='Frequency'>"
      ]
     },
     "execution_count": 42,
     "metadata": {},
     "output_type": "execute_result"
    },
    {
     "data": {
      "image/png": "[encoded data removed]",
      "text/plain": [
       "<Figure size 432x288 with 1 Axes>"
      ]
     },
     "metadata": {
      "needs_background": "light"
     },
     "output_type": "display_data"
    }
   ],
   "source": [
    "as_ethics_m.plot.hist()"
   ]
  },
  {
   "cell_type": "code",
   "execution_count": 43,
   "metadata": {},
   "outputs": [
    {
     "data": {
      "text/plain": [
       "<AxesSubplot:ylabel='Frequency'>"
      ]
     },
     "execution_count": 43,
     "metadata": {},
     "output_type": "execute_result"
    },
    {
     "data": {
      "image/png": "[encoded data removed]",
      "text/plain": [
       "<Figure size 432x288 with 1 Axes>"
      ]
     },
     "metadata": {
      "needs_background": "light"
     },
     "output_type": "display_data"
    }
   ],
   "source": [
    "as_ethics_s.plot.hist()"
   ]
  },
  {
   "cell_type": "markdown",
   "metadata": {},
   "source": [
    "All questions together for only primary supervisor:"
   ]
  },
  {
   "cell_type": "code",
   "execution_count": 48,
   "metadata": {},
   "outputs": [
    {
     "data": {
      "text/plain": [
       "<AxesSubplot:>"
      ]
     },
     "execution_count": 48,
     "metadata": {},
     "output_type": "execute_result"
    },
    {
     "data": {
      "image/png": "[encoded data removed]",
      "text/plain": [
       "<Figure size 1152x576 with 1 Axes>"
      ]
     },
     "metadata": {
      "needs_background": "light"
     },
     "output_type": "display_data"
    }
   ],
   "source": [
    "all_questions_m = df[['Academic Support [Knowledge of the field (literature)]',\n",
    "                      'Academic Support [Conference participation encouragement]',\n",
    "                      'Academic Support [Teaching opportunities]',\n",
    "                      'Academic Support [Thesis writing/guidance]',\n",
    "                      'Academic Support [Methodology guidance/sources]',\n",
    "                      'Academic Support [Support for publications (named author)]',\n",
    "                      'Academic Support [Ethics form guidance]']]\n",
    "\n",
    "all_questions_m.plot.bar(figsize=(16, 8))"
   ]
  },
  {
   "cell_type": "code",
   "execution_count": 50,
   "metadata": {},
   "outputs": [
    {
     "data": {
      "text/plain": [
       "<AxesSubplot:ylabel='Frequency'>"
      ]
     },
     "execution_count": 50,
     "metadata": {},
     "output_type": "execute_result"
    },
    {
     "data": {
      "image/png": "[encoded data removed]",
      "text/plain": [
       "<Figure size 1152x576 with 1 Axes>"
      ]
     },
     "metadata": {
      "needs_background": "light"
     },
     "output_type": "display_data"
    }
   ],
   "source": [
    "all_questions_m.plot.hist(figsize=(16, 8))"
   ]
  },
  {
   "cell_type": "markdown",
   "metadata": {},
   "source": [
    "### Open questions\n",
    "\n",
    "This only shows the analysis of open questions."
   ]
  },
  {
   "cell_type": "code",
   "execution_count": 12,
   "metadata": {},
   "outputs": [
    {
     "data": {
      "text/html": [
       "<div>\n",
       "<style scoped>\n",
       "    .dataframe tbody tr th:only-of-type {\n",
       "        vertical-align: middle;\n",
       "    }\n",
       "\n",
       "    .dataframe tbody tr th {\n",
       "        vertical-align: top;\n",
       "    }\n",
       "\n",
       "    .dataframe thead th {\n",
       "        text-align: right;\n",
       "    }\n",
       "</style>\n",
       "<table border=\"1\" class=\"dataframe\">\n",
       "  <thead>\n",
       "    <tr style=\"text-align: right;\">\n",
       "      <th></th>\n",
       "      <th>Could you give a definition of the supervisor/advisor?</th>\n",
       "      <th>What are the duties of the supervisor/advisor in your experience?</th>\n",
       "      <th>What do you value from your supervisor/advisor?</th>\n",
       "      <th>What makes/made your work difficult related to your supervisor/advisor?</th>\n",
       "      <th>What situations would make you feel bad when working with your supervisor/advisor?</th>\n",
       "      <th>How do/did you feel when that happens/happened?</th>\n",
       "      <th>What are/were the most difficult moments during your Ph.D.?</th>\n",
       "      <th>What are/were the most satisfactory moments during your Ph.D.?</th>\n",
       "      <th>When do/did you feel better during your PhD?</th>\n",
       "      <th>When do/did you feel worse during your PhD?</th>\n",
       "      <th>Were there any apprehensions about your supervisor/advisor during the application stage? If yes, what were they?</th>\n",
       "      <th>Were there any expectations about your supervisor/advisor during the application stage? If yes, what were they?</th>\n",
       "      <th>How would the ideal supervisor/advisor be for you?</th>\n",
       "      <th>How would the least suitable supervisor/advisor be for you?</th>\n",
       "      <th>What are the harms when in bad supervision?</th>\n",
       "      <th>Who is (mostly) affected?</th>\n",
       "      <th>What are some corrective suggestions to improve a situation of bad supervision?</th>\n",
       "    </tr>\n",
       "  </thead>\n",
       "  <tbody>\n",
       "    <tr>\n",
       "      <th>0</th>\n",
       "      <td>-a supporter\\n-an academic advisor - someone w...</td>\n",
       "      <td>-to support, to advise, to encourage, give fee...</td>\n",
       "      <td>NOTE: had 2 different team constallations of s...</td>\n",
       "      <td>*Team 1: the team had comms issues with each o...</td>\n",
       "      <td>0</td>\n",
       "      <td>0</td>\n",
       "      <td>Not passing the progress review the first time...</td>\n",
       "      <td>Surviving and passing the second progress pane...</td>\n",
       "      <td>I don't know what that means</td>\n",
       "      <td>I don't know what that means</td>\n",
       "      <td>I think I have covered that</td>\n",
       "      <td>(interviewer - I had to clarify that this was ...</td>\n",
       "      <td>repetitive question - what does how mean? ther...</td>\n",
       "      <td>Subjective question and what is this referring...</td>\n",
       "      <td>Bad supervision has several negative outcomes ...</td>\n",
       "      <td>The PhD student because I am not entirely sure...</td>\n",
       "      <td>Very very broad question - I think this is ver...</td>\n",
       "    </tr>\n",
       "    <tr>\n",
       "      <th>1</th>\n",
       "      <td>someone who gives you leadership and the freed...</td>\n",
       "      <td>available to clarify questions, leading you in...</td>\n",
       "      <td>good personal relationship, I trusted her.</td>\n",
       "      <td>She was pushing me a lot towaards my PhD topic...</td>\n",
       "      <td>Workload was awful. I had a part time job, aft...</td>\n",
       "      <td>I thought I was the only one with this problem...</td>\n",
       "      <td>Starting teaching, my supervisor gave me a lot...</td>\n",
       "      <td>Being outside on field work, congress, seminar...</td>\n",
       "      <td>same as the last question</td>\n",
       "      <td>starting teaching</td>\n",
       "      <td>not really</td>\n",
       "      <td>to be an inspiring person, and for her to give...</td>\n",
       "      <td>inspiring and motivating, gives you space and ...</td>\n",
       "      <td>too high expectations on work, unavailable and...</td>\n",
       "      <td>personal damage, damages your confidence in yo...</td>\n",
       "      <td>PhD student, working group.</td>\n",
       "      <td>Having more PhD to talk to about this, making ...</td>\n",
       "    </tr>\n",
       "    <tr>\n",
       "      <th>2</th>\n",
       "      <td>critically evaluate your work\\nhelp in job opp...</td>\n",
       "      <td>critically criticise and evaluate your thesis ...</td>\n",
       "      <td>encouragement\\nvaluable feedback\\nknowledge</td>\n",
       "      <td>the patronising comments\\nstressful moments\\nn...</td>\n",
       "      <td>patronising me in meetings\\nnot attending the ...</td>\n",
       "      <td>stressed, depressed, felt I was dumb and I cou...</td>\n",
       "      <td>The viva because she didn't show up\\nmeetings ...</td>\n",
       "      <td>after the viva getting a very positive result\\...</td>\n",
       "      <td>During conferences and presentations</td>\n",
       "      <td>in the meetings with the supervisor</td>\n",
       "      <td>No because I didn't know her</td>\n",
       "      <td>No because I didn't know her but it would be g...</td>\n",
       "      <td>support you emotionally\\nbelieve in your work ...</td>\n",
       "      <td>someone not interested in your research\\nwould...</td>\n",
       "      <td>depressed, feeling down, feeling dumb, feeling...</td>\n",
       "      <td>The student. The supervisor has no consequence...</td>\n",
       "      <td>always speak up and change your supervisor as ...</td>\n",
       "    </tr>\n",
       "    <tr>\n",
       "      <th>3</th>\n",
       "      <td>Someone who\\nfollows my research\\nsuggests for...</td>\n",
       "      <td>I think I covered everything in the previous q...</td>\n",
       "      <td>He helped me to access sources that I didn't h...</td>\n",
       "      <td>he didn't provide substantial feedback\\nbad co...</td>\n",
       "      <td>Mostly what I have mentioned in the previous q...</td>\n",
       "      <td>These situations created stress to me and stal...</td>\n",
       "      <td>When I asked for leave of absence and when I w...</td>\n",
       "      <td>At the beginning of the programme, I had the c...</td>\n",
       "      <td>At the beginning (as I mentioned above)</td>\n",
       "      <td>During the writing up (about last year and a h...</td>\n",
       "      <td>Yes, he was also my master's supervisor and I ...</td>\n",
       "      <td>His field and research were close to mine so I...</td>\n",
       "      <td>be supportive\\nprovide constructive feedback\\n...</td>\n",
       "      <td>Mine (opposite to above)</td>\n",
       "      <td>you get a very distorted perception of the qua...</td>\n",
       "      <td>the supervisee, poor student</td>\n",
       "      <td>the student should be able to provide feedback...</td>\n",
       "    </tr>\n",
       "    <tr>\n",
       "      <th>4</th>\n",
       "      <td>An experienced researcher to guide, advise and...</td>\n",
       "      <td>supportive, constructive criticism by reading ...</td>\n",
       "      <td>support and research experience, constructive ...</td>\n",
       "      <td>Previous supervisors (not current primary supe...</td>\n",
       "      <td>Mentioned above</td>\n",
       "      <td>Felt very bad, I felt like I was a problem stu...</td>\n",
       "      <td>Mentioned above</td>\n",
       "      <td>Meeting a really supportive supervisor. Presen...</td>\n",
       "      <td>When I met my new primary supervisor. It felt ...</td>\n",
       "      <td>Y3 start (left 1st primary supervisor), Y5 sta...</td>\n",
       "      <td>I was allocated a newly appointed supervisor w...</td>\n",
       "      <td>I had no expectations, but I am an educator to...</td>\n",
       "      <td>kind, supportive, knowledgable in my field and...</td>\n",
       "      <td>Untrustworthy, unsupportive, too critical, tar...</td>\n",
       "      <td>I almost wanted to give up my PhD. My first su...</td>\n",
       "      <td>Me and the reputation of the university</td>\n",
       "      <td>Supervisor to apologise. Recourse to change su...</td>\n",
       "    </tr>\n",
       "    <tr>\n",
       "      <th>5</th>\n",
       "      <td>the person that \\n-gives you guidance on how t...</td>\n",
       "      <td>keep you focused\\nensure that your work is of ...</td>\n",
       "      <td>kept me focused on my research\\ndefined what q...</td>\n",
       "      <td>in my case I felt he didn't have much experien...</td>\n",
       "      <td>If I am unable to meet deadlines\\nIf I don't p...</td>\n",
       "      <td>Terrible, disappointed. Occasionally angry wit...</td>\n",
       "      <td>When I revising my thesis after the viva</td>\n",
       "      <td>When I finished my first draft</td>\n",
       "      <td>When I finished with my data analysis. The pie...</td>\n",
       "      <td>After the viva</td>\n",
       "      <td>no, not really</td>\n",
       "      <td>no, I was looking for someone who would be int...</td>\n",
       "      <td>I want someone who is kind, friendly, supporti...</td>\n",
       "      <td>the direct opposite. I don't want someone who ...</td>\n",
       "      <td>You either don't get the work done or you get ...</td>\n",
       "      <td>the student first and then maybe people who ar...</td>\n",
       "      <td>Student and supervisor sit down and talk throu...</td>\n",
       "    </tr>\n",
       "    <tr>\n",
       "      <th>6</th>\n",
       "      <td>a mentor\\nsomeone that is supposed to accompan...</td>\n",
       "      <td>companionship in the academic level \\nprovide ...</td>\n",
       "      <td>his speed in solving task, highly effective, a...</td>\n",
       "      <td>Difficult to communicate and what I perceive a...</td>\n",
       "      <td>When I feel compared or defined to others (and...</td>\n",
       "      <td>Depression, enraged, sad, all the negative emo...</td>\n",
       "      <td>the top one is to infect other students with m...</td>\n",
       "      <td>When my students (bachelor and masters) passed...</td>\n",
       "      <td>In the situations I mentioned in the previous ...</td>\n",
       "      <td>When a publication was taken from me\\nwhen the...</td>\n",
       "      <td>No he seemed absolutely charismatic, compromis...</td>\n",
       "      <td>Yes all the expectations. I was coming out of ...</td>\n",
       "      <td>someone I can communicate with in more than on...</td>\n",
       "      <td>non-empathetic, non-transparent, a person who ...</td>\n",
       "      <td>high and varied, people kill themselves in ext...</td>\n",
       "      <td>In my opinion the student because they are low...</td>\n",
       "      <td>We need to help current and future students to...</td>\n",
       "    </tr>\n",
       "  </tbody>\n",
       "</table>\n",
       "</div>"
      ],
      "text/plain": [
       "  Could you give a definition of the supervisor/advisor?  \\\n",
       "0  -a supporter\\n-an academic advisor - someone w...       \n",
       "1  someone who gives you leadership and the freed...       \n",
       "2  critically evaluate your work\\nhelp in job opp...       \n",
       "3  Someone who\\nfollows my research\\nsuggests for...       \n",
       "4  An experienced researcher to guide, advise and...       \n",
       "5  the person that \\n-gives you guidance on how t...       \n",
       "6  a mentor\\nsomeone that is supposed to accompan...       \n",
       "\n",
       "  What are the duties of the supervisor/advisor in your experience?   \\\n",
       "0  -to support, to advise, to encourage, give fee...                   \n",
       "1  available to clarify questions, leading you in...                   \n",
       "2  critically criticise and evaluate your thesis ...                   \n",
       "3  I think I covered everything in the previous q...                   \n",
       "4  supportive, constructive criticism by reading ...                   \n",
       "5  keep you focused\\nensure that your work is of ...                   \n",
       "6  companionship in the academic level \\nprovide ...                   \n",
       "\n",
       "    What do you value from your supervisor/advisor?   \\\n",
       "0  NOTE: had 2 different team constallations of s...   \n",
       "1         good personal relationship, I trusted her.   \n",
       "2        encouragement\\nvaluable feedback\\nknowledge   \n",
       "3  He helped me to access sources that I didn't h...   \n",
       "4  support and research experience, constructive ...   \n",
       "5  kept me focused on my research\\ndefined what q...   \n",
       "6  his speed in solving task, highly effective, a...   \n",
       "\n",
       "  What makes/made your work difficult related to your supervisor/advisor?   \\\n",
       "0  *Team 1: the team had comms issues with each o...                         \n",
       "1  She was pushing me a lot towaards my PhD topic...                         \n",
       "2  the patronising comments\\nstressful moments\\nn...                         \n",
       "3  he didn't provide substantial feedback\\nbad co...                         \n",
       "4  Previous supervisors (not current primary supe...                         \n",
       "5  in my case I felt he didn't have much experien...                         \n",
       "6  Difficult to communicate and what I perceive a...                         \n",
       "\n",
       "  What situations would make you feel bad when working with your supervisor/advisor?  \\\n",
       "0                                                  0                                   \n",
       "1  Workload was awful. I had a part time job, aft...                                   \n",
       "2  patronising me in meetings\\nnot attending the ...                                   \n",
       "3  Mostly what I have mentioned in the previous q...                                   \n",
       "4                                   Mentioned above                                    \n",
       "5  If I am unable to meet deadlines\\nIf I don't p...                                   \n",
       "6  When I feel compared or defined to others (and...                                   \n",
       "\n",
       "    How do/did you feel when that happens/happened?   \\\n",
       "0                                                  0   \n",
       "1  I thought I was the only one with this problem...   \n",
       "2  stressed, depressed, felt I was dumb and I cou...   \n",
       "3  These situations created stress to me and stal...   \n",
       "4  Felt very bad, I felt like I was a problem stu...   \n",
       "5  Terrible, disappointed. Occasionally angry wit...   \n",
       "6  Depression, enraged, sad, all the negative emo...   \n",
       "\n",
       "  What are/were the most difficult moments during your Ph.D.?   \\\n",
       "0  Not passing the progress review the first time...             \n",
       "1  Starting teaching, my supervisor gave me a lot...             \n",
       "2  The viva because she didn't show up\\nmeetings ...             \n",
       "3  When I asked for leave of absence and when I w...             \n",
       "4                                    Mentioned above             \n",
       "5           When I revising my thesis after the viva             \n",
       "6  the top one is to infect other students with m...             \n",
       "\n",
       "  What are/were the most satisfactory moments during your Ph.D.?   \\\n",
       "0  Surviving and passing the second progress pane...                \n",
       "1  Being outside on field work, congress, seminar...                \n",
       "2  after the viva getting a very positive result\\...                \n",
       "3  At the beginning of the programme, I had the c...                \n",
       "4  Meeting a really supportive supervisor. Presen...                \n",
       "5                     When I finished my first draft                \n",
       "6  When my students (bachelor and masters) passed...                \n",
       "\n",
       "       When do/did you feel better during your PhD?   \\\n",
       "0                       I don't know what that means   \n",
       "1                          same as the last question   \n",
       "2               During conferences and presentations   \n",
       "3            At the beginning (as I mentioned above)   \n",
       "4  When I met my new primary supervisor. It felt ...   \n",
       "5  When I finished with my data analysis. The pie...   \n",
       "6  In the situations I mentioned in the previous ...   \n",
       "\n",
       "        When do/did you feel worse during your PhD?   \\\n",
       "0                       I don't know what that means   \n",
       "1                                  starting teaching   \n",
       "2                in the meetings with the supervisor   \n",
       "3  During the writing up (about last year and a h...   \n",
       "4  Y3 start (left 1st primary supervisor), Y5 sta...   \n",
       "5                                     After the viva   \n",
       "6  When a publication was taken from me\\nwhen the...   \n",
       "\n",
       "  Were there any apprehensions about your supervisor/advisor during the application stage? If yes, what were they?   \\\n",
       "0                        I think I have covered that                                                                  \n",
       "1                                        not really                                                                   \n",
       "2                       No because I didn't know her                                                                  \n",
       "3  Yes, he was also my master's supervisor and I ...                                                                  \n",
       "4  I was allocated a newly appointed supervisor w...                                                                  \n",
       "5                                     no, not really                                                                  \n",
       "6  No he seemed absolutely charismatic, compromis...                                                                  \n",
       "\n",
       "  Were there any expectations about your supervisor/advisor during the application stage? If yes, what were they?   \\\n",
       "0  (interviewer - I had to clarify that this was ...                                                                 \n",
       "1  to be an inspiring person, and for her to give...                                                                 \n",
       "2  No because I didn't know her but it would be g...                                                                 \n",
       "3  His field and research were close to mine so I...                                                                 \n",
       "4  I had no expectations, but I am an educator to...                                                                 \n",
       "5  no, I was looking for someone who would be int...                                                                 \n",
       "6  Yes all the expectations. I was coming out of ...                                                                 \n",
       "\n",
       "  How would the ideal supervisor/advisor be for you?   \\\n",
       "0  repetitive question - what does how mean? ther...    \n",
       "1  inspiring and motivating, gives you space and ...    \n",
       "2  support you emotionally\\nbelieve in your work ...    \n",
       "3  be supportive\\nprovide constructive feedback\\n...    \n",
       "4  kind, supportive, knowledgable in my field and...    \n",
       "5  I want someone who is kind, friendly, supporti...    \n",
       "6  someone I can communicate with in more than on...    \n",
       "\n",
       "  How would the least suitable supervisor/advisor be for you?   \\\n",
       "0  Subjective question and what is this referring...             \n",
       "1  too high expectations on work, unavailable and...             \n",
       "2  someone not interested in your research\\nwould...             \n",
       "3                           Mine (opposite to above)             \n",
       "4  Untrustworthy, unsupportive, too critical, tar...             \n",
       "5  the direct opposite. I don't want someone who ...             \n",
       "6  non-empathetic, non-transparent, a person who ...             \n",
       "\n",
       "        What are the harms when in bad supervision?   \\\n",
       "0  Bad supervision has several negative outcomes ...   \n",
       "1  personal damage, damages your confidence in yo...   \n",
       "2  depressed, feeling down, feeling dumb, feeling...   \n",
       "3  you get a very distorted perception of the qua...   \n",
       "4  I almost wanted to give up my PhD. My first su...   \n",
       "5  You either don't get the work done or you get ...   \n",
       "6  high and varied, people kill themselves in ext...   \n",
       "\n",
       "                          Who is (mostly) affected?   \\\n",
       "0  The PhD student because I am not entirely sure...   \n",
       "1                        PhD student, working group.   \n",
       "2  The student. The supervisor has no consequence...   \n",
       "3                       the supervisee, poor student   \n",
       "4            Me and the reputation of the university   \n",
       "5  the student first and then maybe people who ar...   \n",
       "6  In my opinion the student because they are low...   \n",
       "\n",
       "  What are some corrective suggestions to improve a situation of bad supervision?   \n",
       "0  Very very broad question - I think this is ver...                                \n",
       "1  Having more PhD to talk to about this, making ...                                \n",
       "2  always speak up and change your supervisor as ...                                \n",
       "3  the student should be able to provide feedback...                                \n",
       "4  Supervisor to apologise. Recourse to change su...                                \n",
       "5  Student and supervisor sit down and talk throu...                                \n",
       "6  We need to help current and future students to...                                "
      ]
     },
     "execution_count": 12,
     "metadata": {},
     "output_type": "execute_result"
    }
   ],
   "source": [
    "open_question=df[['Could you give a definition of the supervisor/advisor?',\n",
    "       'What are the duties of the supervisor/advisor in your experience? ',\n",
    "       'What do you value from your supervisor/advisor? ',\n",
    "       'What makes/made your work difficult related to your supervisor/advisor? ',\n",
    "       'What situations would make you feel bad when working with your supervisor/advisor?',\n",
    "       'How do/did you feel when that happens/happened? ',\n",
    "       'What are/were the most difficult moments during your Ph.D.? ',\n",
    "       'What are/were the most satisfactory moments during your Ph.D.? ',\n",
    "       'When do/did you feel better during your PhD? ',\n",
    "       'When do/did you feel worse during your PhD? ',\n",
    "       'Were there any apprehensions about your supervisor/advisor during the application stage? If yes, what were they? ',\n",
    "       'Were there any expectations about your supervisor/advisor during the application stage? If yes, what were they? ',\n",
    "       'How would the ideal supervisor/advisor be for you? ',\n",
    "       'How would the least suitable supervisor/advisor be for you? ',\n",
    "       'What are the harms when in bad supervision? ',\n",
    "       'Who is (mostly) affected? ',\n",
    "       'What are some corrective suggestions to improve a situation of bad supervision? ']]\n",
    "open_question"
   ]
  },
  {
   "cell_type": "markdown",
   "metadata": {},
   "source": [
    "In each case, a count of main words used is adquired."
   ]
  },
  {
   "cell_type": "markdown",
   "metadata": {},
   "source": [
    "#### Extra information about support."
   ]
  },
  {
   "cell_type": "code",
   "execution_count": 13,
   "metadata": {},
   "outputs": [
    {
     "data": {
      "text/html": [
       "<div>\n",
       "<style scoped>\n",
       "    .dataframe tbody tr th:only-of-type {\n",
       "        vertical-align: middle;\n",
       "    }\n",
       "\n",
       "    .dataframe tbody tr th {\n",
       "        vertical-align: top;\n",
       "    }\n",
       "\n",
       "    .dataframe thead th {\n",
       "        text-align: right;\n",
       "    }\n",
       "</style>\n",
       "<table border=\"1\" class=\"dataframe\">\n",
       "  <thead>\n",
       "    <tr style=\"text-align: right;\">\n",
       "      <th></th>\n",
       "      <th>Do/did you have access to other support services besides your supervisor/advisor in your institution, i.e. a mentor?</th>\n",
       "      <th>If yes, do/did you make use of such services?</th>\n",
       "      <th>If no, do you think such services would make a difference to the Ph.D. experience?</th>\n",
       "    </tr>\n",
       "  </thead>\n",
       "  <tbody>\n",
       "    <tr>\n",
       "      <th>0</th>\n",
       "      <td>Yes</td>\n",
       "      <td>No</td>\n",
       "      <td>Yes</td>\n",
       "    </tr>\n",
       "    <tr>\n",
       "      <th>1</th>\n",
       "      <td>No</td>\n",
       "      <td>No</td>\n",
       "      <td>Yes</td>\n",
       "    </tr>\n",
       "    <tr>\n",
       "      <th>2</th>\n",
       "      <td>No</td>\n",
       "      <td>No</td>\n",
       "      <td>Yes</td>\n",
       "    </tr>\n",
       "    <tr>\n",
       "      <th>3</th>\n",
       "      <td>Yes</td>\n",
       "      <td>Yes</td>\n",
       "      <td>Yes</td>\n",
       "    </tr>\n",
       "    <tr>\n",
       "      <th>4</th>\n",
       "      <td>No</td>\n",
       "      <td>No</td>\n",
       "      <td>Yes</td>\n",
       "    </tr>\n",
       "    <tr>\n",
       "      <th>5</th>\n",
       "      <td>No</td>\n",
       "      <td>NaN</td>\n",
       "      <td>Yes</td>\n",
       "    </tr>\n",
       "    <tr>\n",
       "      <th>6</th>\n",
       "      <td>Yes</td>\n",
       "      <td>Yes</td>\n",
       "      <td>Yes</td>\n",
       "    </tr>\n",
       "  </tbody>\n",
       "</table>\n",
       "</div>"
      ],
      "text/plain": [
       "  Do/did you have access to other support services besides your supervisor/advisor in your institution, i.e. a mentor?   \\\n",
       "0                                                Yes                                                                      \n",
       "1                                                 No                                                                      \n",
       "2                                                 No                                                                      \n",
       "3                                                Yes                                                                      \n",
       "4                                                 No                                                                      \n",
       "5                                                 No                                                                      \n",
       "6                                                Yes                                                                      \n",
       "\n",
       "  If yes, do/did you make use of such services?   \\\n",
       "0                                             No   \n",
       "1                                             No   \n",
       "2                                             No   \n",
       "3                                            Yes   \n",
       "4                                             No   \n",
       "5                                            NaN   \n",
       "6                                            Yes   \n",
       "\n",
       "   If no, do you think such services would make a difference to the Ph.D. experience?  \n",
       "0                                                Yes                                   \n",
       "1                                                Yes                                   \n",
       "2                                                Yes                                   \n",
       "3                                                Yes                                   \n",
       "4                                                Yes                                   \n",
       "5                                                Yes                                   \n",
       "6                                                Yes                                   "
      ]
     },
     "execution_count": 13,
     "metadata": {},
     "output_type": "execute_result"
    }
   ],
   "source": [
    "extra_support=df[['Do/did you have access to other support services besides your supervisor/advisor in your institution, i.e. a mentor? ',\n",
    "       'If yes, do/did you make use of such services? ',\n",
    "       ' If no, do you think such services would make a difference to the Ph.D. experience?']]\n",
    "extra_support"
   ]
  }
 ],
 "metadata": {
  "kernelspec": {
   "display_name": "Python 3",
   "language": "python",
   "name": "python3"
  },
  "language_info": {
   "codemirror_mode": {
    "name": "ipython",
    "version": 3
   },
   "file_extension": ".py",
   "mimetype": "text/x-python",
   "name": "python",
   "nbconvert_exporter": "python",
   "pygments_lexer": "ipython3",
   "version": "3.6.3"
  }
 },
 "nbformat": 4,
 "nbformat_minor": 4
}
